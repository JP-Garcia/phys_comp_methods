{
 "cells": [
  {
   "cell_type": "markdown",
   "id": "f691767d-2f47-4d56-9b90-914e48c26348",
   "metadata": {},
   "source": [
    "### Remington's Day 30\n",
    "\n",
    "## Finding Roots\n",
    "\n",
    "with an algebraic function, you can always use this methood\n",
    "\n",
    "x = e^-x\n",
    "\n",
    "Relaxation Methood"
   ]
  },
  {
   "cell_type": "code",
   "execution_count": 1,
   "id": "7ef42ae0-5279-4161-93d7-1ce827bcfbb9",
   "metadata": {
    "tags": []
   },
   "outputs": [],
   "source": [
    "def graph(x,y):\n",
    "    fig, ax = plt.subplots()\n",
    "    for i in range(len(y)):\n",
    "        iType = str(type(i))\n",
    "        if (\"int\" in iType) or (\"float\" in iType):\n",
    "            print(iType)\n",
    "        ax.plot(x[i], y[i], \"o\")"
   ]
  },
  {
   "cell_type": "code",
   "execution_count": 2,
   "id": "29409281-c1ea-4ebd-b806-81464dc52097",
   "metadata": {
    "tags": []
   },
   "outputs": [],
   "source": [
    "def e(res=80):\n",
    "    x=1\n",
    "    for i in range(res):\n",
    "        x = np.exp(-x)\n",
    "    return(x)\n",
    "        "
   ]
  },
  {
   "cell_type": "code",
   "execution_count": 3,
   "id": "211ad492-7368-4c34-b0c2-8ce9bd451c40",
   "metadata": {
    "tags": []
   },
   "outputs": [
    {
     "data": {
      "text/plain": [
       "0.5671432904097838"
      ]
     },
     "execution_count": 3,
     "metadata": {},
     "output_type": "execute_result"
    }
   ],
   "source": [
    "e()"
   ]
  },
  {
   "cell_type": "code",
   "execution_count": 4,
   "id": "679d43d1-202b-4ede-97d7-c326ca9c8c2c",
   "metadata": {
    "tags": []
   },
   "outputs": [],
   "source": [
    "x=np.linspace(0, 2)"
   ]
  },
  {
   "cell_type": "code",
   "execution_count": 5,
   "id": "7e33f553-4b11-431b-b310-b81964eb27c3",
   "metadata": {
    "tags": []
   },
   "outputs": [
    {
     "name": "stdout",
     "output_type": "stream",
     "text": [
      "<class 'int'>\n"
     ]
    },
    {
     "ename": "ValueError",
     "evalue": "x and y must have same first dimension, but have shapes (1,) and (50,)",
     "output_type": "error",
     "traceback": [
      "\u001b[1;31m---------------------------------------------------------------------------\u001b[0m",
      "\u001b[1;31mValueError\u001b[0m                                Traceback (most recent call last)",
      "Cell \u001b[1;32mIn[5], line 1\u001b[0m\n\u001b[1;32m----> 1\u001b[0m graph(x, [np\u001b[38;5;241m.\u001b[39mexp(\u001b[38;5;241m-\u001b[39mx)])\n",
      "Cell \u001b[1;32mIn[1], line 7\u001b[0m, in \u001b[0;36mgraph\u001b[1;34m(x, y)\u001b[0m\n\u001b[0;32m      5\u001b[0m \u001b[38;5;28;01mif\u001b[39;00m (\u001b[38;5;124m\"\u001b[39m\u001b[38;5;124mint\u001b[39m\u001b[38;5;124m\"\u001b[39m \u001b[38;5;129;01min\u001b[39;00m iType) \u001b[38;5;129;01mor\u001b[39;00m (\u001b[38;5;124m\"\u001b[39m\u001b[38;5;124mfloat\u001b[39m\u001b[38;5;124m\"\u001b[39m \u001b[38;5;129;01min\u001b[39;00m iType):\n\u001b[0;32m      6\u001b[0m     \u001b[38;5;28mprint\u001b[39m(iType)\n\u001b[1;32m----> 7\u001b[0m ax\u001b[38;5;241m.\u001b[39mplot(x[i], y[i], \u001b[38;5;124m\"\u001b[39m\u001b[38;5;124mo\u001b[39m\u001b[38;5;124m\"\u001b[39m)\n",
      "File \u001b[1;32mC:\\ProgramData\\anaconda3\\Lib\\site-packages\\matplotlib\\axes\\_axes.py:1688\u001b[0m, in \u001b[0;36mAxes.plot\u001b[1;34m(self, scalex, scaley, data, *args, **kwargs)\u001b[0m\n\u001b[0;32m   1445\u001b[0m \u001b[38;5;250m\u001b[39m\u001b[38;5;124;03m\"\"\"\u001b[39;00m\n\u001b[0;32m   1446\u001b[0m \u001b[38;5;124;03mPlot y versus x as lines and/or markers.\u001b[39;00m\n\u001b[0;32m   1447\u001b[0m \n\u001b[1;32m   (...)\u001b[0m\n\u001b[0;32m   1685\u001b[0m \u001b[38;5;124;03m(``'green'``) or hex strings (``'#008000'``).\u001b[39;00m\n\u001b[0;32m   1686\u001b[0m \u001b[38;5;124;03m\"\"\"\u001b[39;00m\n\u001b[0;32m   1687\u001b[0m kwargs \u001b[38;5;241m=\u001b[39m cbook\u001b[38;5;241m.\u001b[39mnormalize_kwargs(kwargs, mlines\u001b[38;5;241m.\u001b[39mLine2D)\n\u001b[1;32m-> 1688\u001b[0m lines \u001b[38;5;241m=\u001b[39m [\u001b[38;5;241m*\u001b[39m\u001b[38;5;28mself\u001b[39m\u001b[38;5;241m.\u001b[39m_get_lines(\u001b[38;5;241m*\u001b[39margs, data\u001b[38;5;241m=\u001b[39mdata, \u001b[38;5;241m*\u001b[39m\u001b[38;5;241m*\u001b[39mkwargs)]\n\u001b[0;32m   1689\u001b[0m \u001b[38;5;28;01mfor\u001b[39;00m line \u001b[38;5;129;01min\u001b[39;00m lines:\n\u001b[0;32m   1690\u001b[0m     \u001b[38;5;28mself\u001b[39m\u001b[38;5;241m.\u001b[39madd_line(line)\n",
      "File \u001b[1;32mC:\\ProgramData\\anaconda3\\Lib\\site-packages\\matplotlib\\axes\\_base.py:311\u001b[0m, in \u001b[0;36m_process_plot_var_args.__call__\u001b[1;34m(self, data, *args, **kwargs)\u001b[0m\n\u001b[0;32m    309\u001b[0m     this \u001b[38;5;241m+\u001b[39m\u001b[38;5;241m=\u001b[39m args[\u001b[38;5;241m0\u001b[39m],\n\u001b[0;32m    310\u001b[0m     args \u001b[38;5;241m=\u001b[39m args[\u001b[38;5;241m1\u001b[39m:]\n\u001b[1;32m--> 311\u001b[0m \u001b[38;5;28;01myield from\u001b[39;00m \u001b[38;5;28mself\u001b[39m\u001b[38;5;241m.\u001b[39m_plot_args(\n\u001b[0;32m    312\u001b[0m     this, kwargs, ambiguous_fmt_datakey\u001b[38;5;241m=\u001b[39mambiguous_fmt_datakey)\n",
      "File \u001b[1;32mC:\\ProgramData\\anaconda3\\Lib\\site-packages\\matplotlib\\axes\\_base.py:504\u001b[0m, in \u001b[0;36m_process_plot_var_args._plot_args\u001b[1;34m(self, tup, kwargs, return_kwargs, ambiguous_fmt_datakey)\u001b[0m\n\u001b[0;32m    501\u001b[0m     \u001b[38;5;28mself\u001b[39m\u001b[38;5;241m.\u001b[39maxes\u001b[38;5;241m.\u001b[39myaxis\u001b[38;5;241m.\u001b[39mupdate_units(y)\n\u001b[0;32m    503\u001b[0m \u001b[38;5;28;01mif\u001b[39;00m x\u001b[38;5;241m.\u001b[39mshape[\u001b[38;5;241m0\u001b[39m] \u001b[38;5;241m!=\u001b[39m y\u001b[38;5;241m.\u001b[39mshape[\u001b[38;5;241m0\u001b[39m]:\n\u001b[1;32m--> 504\u001b[0m     \u001b[38;5;28;01mraise\u001b[39;00m \u001b[38;5;167;01mValueError\u001b[39;00m(\u001b[38;5;124mf\u001b[39m\u001b[38;5;124m\"\u001b[39m\u001b[38;5;124mx and y must have same first dimension, but \u001b[39m\u001b[38;5;124m\"\u001b[39m\n\u001b[0;32m    505\u001b[0m                      \u001b[38;5;124mf\u001b[39m\u001b[38;5;124m\"\u001b[39m\u001b[38;5;124mhave shapes \u001b[39m\u001b[38;5;132;01m{\u001b[39;00mx\u001b[38;5;241m.\u001b[39mshape\u001b[38;5;132;01m}\u001b[39;00m\u001b[38;5;124m and \u001b[39m\u001b[38;5;132;01m{\u001b[39;00my\u001b[38;5;241m.\u001b[39mshape\u001b[38;5;132;01m}\u001b[39;00m\u001b[38;5;124m\"\u001b[39m)\n\u001b[0;32m    506\u001b[0m \u001b[38;5;28;01mif\u001b[39;00m x\u001b[38;5;241m.\u001b[39mndim \u001b[38;5;241m>\u001b[39m \u001b[38;5;241m2\u001b[39m \u001b[38;5;129;01mor\u001b[39;00m y\u001b[38;5;241m.\u001b[39mndim \u001b[38;5;241m>\u001b[39m \u001b[38;5;241m2\u001b[39m:\n\u001b[0;32m    507\u001b[0m     \u001b[38;5;28;01mraise\u001b[39;00m \u001b[38;5;167;01mValueError\u001b[39;00m(\u001b[38;5;124mf\u001b[39m\u001b[38;5;124m\"\u001b[39m\u001b[38;5;124mx and y can be no greater than 2D, but have \u001b[39m\u001b[38;5;124m\"\u001b[39m\n\u001b[0;32m    508\u001b[0m                      \u001b[38;5;124mf\u001b[39m\u001b[38;5;124m\"\u001b[39m\u001b[38;5;124mshapes \u001b[39m\u001b[38;5;132;01m{\u001b[39;00mx\u001b[38;5;241m.\u001b[39mshape\u001b[38;5;132;01m}\u001b[39;00m\u001b[38;5;124m and \u001b[39m\u001b[38;5;132;01m{\u001b[39;00my\u001b[38;5;241m.\u001b[39mshape\u001b[38;5;132;01m}\u001b[39;00m\u001b[38;5;124m\"\u001b[39m)\n",
      "\u001b[1;31mValueError\u001b[0m: x and y must have same first dimension, but have shapes (1,) and (50,)"
     ]
    },
    {
     "data": {
      "image/png": "[encoded data removed]",
      "text/plain": [
       "<Figure size 640x480 with 1 Axes>"
      ]
     },
     "metadata": {},
     "output_type": "display_data"
    }
   ],
   "source": [
    "graph(x, [np.exp(-x)])"
   ]
  },
  {
   "cell_type": "markdown",
   "id": "62611861-0654-4c1c-a183-ecefbb5ea0a2",
   "metadata": {},
   "source": [
    "New function: $$x = e^{1-x^2}$$"
   ]
  },
  {
   "cell_type": "code",
   "execution_count": 9,
   "id": "855a8e09-cabd-42f1-896b-cd8a67fb89c6",
   "metadata": {
    "tags": []
   },
   "outputs": [],
   "source": [
    "x = np.linspace(0,2,100)"
   ]
  },
  {
   "cell_type": "code",
   "execution_count": 10,
   "id": "9c20edbc-4d76-4101-a189-76b81cb4b369",
   "metadata": {
    "tags": []
   },
   "outputs": [],
   "source": [
    "def e2(res=10):\n",
    "    x=0.5\n",
    "    for i in range(res):\n",
    "        x = np.sqrt(1-np.log(x))\n",
    "        print(x) "
   ]
  },
  {
   "cell_type": "code",
   "execution_count": 11,
   "id": "beaad52e-d256-48a0-bbc1-3751cf70313c",
   "metadata": {
    "tags": []
   },
   "outputs": [
    {
     "name": "stderr",
     "output_type": "stream",
     "text": [
      "C:\\Users\\john\\AppData\\Local\\Temp\\ipykernel_7704\\1984734266.py:1: RuntimeWarning: divide by zero encountered in log\n",
      "  graph(x, [np.exp(1-x**2), np.sqrt(1-np.log(x))]) ## Relaxation methood only works when slope < 1 (you can invert function to get around this)\n"
     ]
    },
    {
     "data": {
      "image/png": "[encoded data removed]",
      "text/plain": [
       "<Figure size 640x480 with 1 Axes>"
      ]
     },
     "metadata": {},
     "output_type": "display_data"
    }
   ],
   "source": [
    "graph(x, [np.exp(1-x**2), np.sqrt(1-np.log(x))]) ## Relaxation methood only works when slope < 1 (you can invert function to get around this)"
   ]
  },
  {
   "cell_type": "code",
   "execution_count": 12,
   "id": "a820505f-1632-4e13-877e-ad1fd42c8bfa",
   "metadata": {
    "tags": []
   },
   "outputs": [
    {
     "name": "stderr",
     "output_type": "stream",
     "text": [
      "C:\\Users\\john\\AppData\\Local\\Temp\\ipykernel_7704\\3940930662.py:1: RuntimeWarning: divide by zero encountered in log\n",
      "  graph(x, [np.sqrt(1-np.log(x))])\n"
     ]
    },
    {
     "data": {
      "image/png": "[encoded data removed]",
      "text/plain": [
       "<Figure size 640x480 with 1 Axes>"
      ]
     },
     "metadata": {},
     "output_type": "display_data"
    }
   ],
   "source": [
    "graph(x, [np.sqrt(1-np.log(x))])"
   ]
  },
  {
   "cell_type": "code",
   "execution_count": 13,
   "id": "71169ea4-cac2-4f99-be35-60a42f70910c",
   "metadata": {
    "tags": []
   },
   "outputs": [],
   "source": [
    "def meth():\n",
    "    x = 2 # guess\n",
    "    diff = 1 # arbitrary value\n",
    "    while abs(diff)>2**-32:\n",
    "        x1 = np.sqrt(1-np.log(x))\n",
    "        diff = x - x1\n",
    "        x = x1\n",
    "    return x"
   ]
  },
  {
   "cell_type": "code",
   "execution_count": 14,
   "id": "5d232833-8323-4fa4-ac69-8643e3aac00b",
   "metadata": {
    "tags": []
   },
   "outputs": [
    {
     "name": "stdout",
     "output_type": "stream",
     "text": [
      "1.0000000000589966\n"
     ]
    }
   ],
   "source": [
    "print(meth())"
   ]
  },
  {
   "cell_type": "markdown",
   "id": "7d70b7f1-e98d-4895-b8e2-17d119f62733",
   "metadata": {},
   "source": [
    "## Old Eqn: $$0=x-e^{-x}$$\n",
    "\n",
    "Take any two points on the line, a and b\n",
    "\n",
    "if a is positive and b is negative, line has crossed 0"
   ]
  },
  {
   "cell_type": "code",
   "execution_count": 15,
   "id": "a15d193c-8f27-45a2-b613-800693e1f269",
   "metadata": {
    "tags": []
   },
   "outputs": [],
   "source": [
    "def bi(f, low, high, tolerance=2**-32):\n",
    "    if f(low) > 0:\n",
    "        low = high\n",
    "        high = low\n",
    "    \n",
    "    #midpoint = (low + high) / 2\n",
    "    while high-low > tolerance:\n",
    "        midpoint = (low + high) / 2\n",
    "\n",
    "        if f(midpoint) > 0:\n",
    "            high = midpoint\n",
    "        else: low = midpoint"
   ]
  },
  {
   "cell_type": "code",
   "execution_count": 16,
   "id": "3ddf2594-bd07-4ae8-92ca-7534988cd4aa",
   "metadata": {
    "tags": []
   },
   "outputs": [],
   "source": [
    "def e3(x): return x-np.exp(-x)"
   ]
  },
  {
   "cell_type": "code",
   "execution_count": 18,
   "id": "06fccb03-ffac-4949-9373-88682eeddfa0",
   "metadata": {
    "tags": []
   },
   "outputs": [],
   "source": [
    "def bisection(f, low, high, tolerance=2**-32):\n",
    "    midpoint = (low + high) / 2\n",
    "    while high-low > tolerance:\n",
    "        if f(low)*f(midpoint) < 0:\n",
    "            high = midpoint\n",
    "            midpoint = (low + high) / 2\n",
    "        elif f(high)*f(midpoint) < 0:\n",
    "            low = midpoint\n",
    "            midpoint = (low + high) / 2\n",
    "        elif f(low)*f(midpoint) > 0 and f(high)*f(midpoint) > 0:\n",
    "            print(\"No unique root in bracket\")\n",
    "            break\n",
    "    return midpoint\n",
    "            "
   ]
  },
  {
   "cell_type": "code",
   "execution_count": 43,
   "id": "decffa45-17c6-4fbc-a019-cb4b5c26c55e",
   "metadata": {
    "tags": []
   },
   "outputs": [],
   "source": [
    "x = np.linspace(-1,6)"
   ]
  },
  {
   "cell_type": "code",
   "execution_count": 88,
   "id": "42c06730-18da-4858-a3b7-757d0be2ccfc",
   "metadata": {
    "tags": []
   },
   "outputs": [
    {
     "data": {
      "image/png": "[encoded data removed]",
      "text/plain": [
       "<Figure size 640x480 with 1 Axes>"
      ]
     },
     "metadata": {},
     "output_type": "display_data"
    }
   ],
   "source": [
    "graph([x, x], [e3(x), x*0, ])"
   ]
  },
  {
   "cell_type": "code",
   "execution_count": 21,
   "id": "c3872acf-fd31-4483-821b-7e72fe4279cc",
   "metadata": {
    "tags": []
   },
   "outputs": [
    {
     "data": {
      "text/plain": [
       "0.5671432904200628"
      ]
     },
     "execution_count": 21,
     "metadata": {},
     "output_type": "execute_result"
    }
   ],
   "source": [
    "bisection(e3, 0, 1)"
   ]
  },
  {
   "cell_type": "code",
   "execution_count": 52,
   "id": "8dfc5be7-d27f-476d-ab4e-270c533a2282",
   "metadata": {
    "tags": []
   },
   "outputs": [
    {
     "data": {
      "text/plain": [
       "0.033689734995427045"
      ]
     },
     "execution_count": 52,
     "metadata": {},
     "output_type": "execute_result"
    }
   ],
   "source": [
    "def e4(x): return 5*np.exp(-x)+x-5\n",
    "e4(5)"
   ]
  },
  {
   "cell_type": "code",
   "execution_count": null,
   "id": "758b2977-5109-4acc-9f42-978ed785af5f",
   "metadata": {
    "tags": []
   },
   "outputs": [],
   "source": []
  },
  {
   "cell_type": "code",
   "execution_count": 75,
   "id": "24997d39-43e3-4bf2-bc58-6b7bfe5b6954",
   "metadata": {
    "tags": []
   },
   "outputs": [
    {
     "name": "stdout",
     "output_type": "stream",
     "text": [
      "2.9103830456733704e-11\n"
     ]
    }
   ],
   "source": [
    "x0 = bisection(e4, -1, 2) # first y=0\n",
    "print(y0)"
   ]
  },
  {
   "cell_type": "code",
   "execution_count": 91,
   "id": "d49ac9a4-e237-40d0-be00-0e4c1be7e227",
   "metadata": {
    "tags": []
   },
   "outputs": [
    {
     "name": "stdout",
     "output_type": "stream",
     "text": [
      "4.9651142318034545\n"
     ]
    }
   ],
   "source": [
    "x1 = bisection(e4, 4, 6) # second y=0\n",
    "print(y1)"
   ]
  },
  {
   "cell_type": "code",
   "execution_count": 79,
   "id": "0073843d-e255-42dc-b954-9032595b7950",
   "metadata": {
    "tags": []
   },
   "outputs": [
    {
     "data": {
      "text/plain": [
       "-1.4551915228366852e-11"
      ]
     },
     "execution_count": 79,
     "metadata": {},
     "output_type": "execute_result"
    }
   ],
   "source": [
    "bisection(e4, -1, 6) # finds first y=0 with less accuracy"
   ]
  },
  {
   "cell_type": "code",
   "execution_count": 102,
   "id": "b1025f37-483a-4611-b07e-67fc8e9c0bf2",
   "metadata": {},
   "outputs": [
    {
     "name": "stdout",
     "output_type": "stream",
     "text": [
      "<class 'int'>\n",
      "<class 'int'>\n",
      "<class 'int'>\n",
      "<class 'int'>\n"
     ]
    },
    {
     "data": {
      "image/png": "[encoded data removed]",
      "text/plain": [
       "<Figure size 640x480 with 1 Axes>"
      ]
     },
     "metadata": {},
     "output_type": "display_data"
    }
   ],
   "source": [
    "graph([x,x,x0,x1], [e4(x), x*0, 0, 0])"
   ]
  },
  {
   "cell_type": "code",
   "execution_count": null,
   "id": "ebb6c08f-76f9-4936-b5f2-7fb937bf5aef",
   "metadata": {},
   "outputs": [],
   "source": []
  },
  {
   "cell_type": "code",
   "execution_count": null,
   "id": "1c79b095-d56e-4580-9ef3-57e23577c0a3",
   "metadata": {},
   "outputs": [],
   "source": []
  }
 ],
 "metadata": {
  "kernelspec": {
   "display_name": "Python 3 (ipykernel)",
   "language": "python",
   "name": "python3"
  },
  "language_info": {
   "codemirror_mode": {
    "name": "ipython",
    "version": 3
   },
   "file_extension": ".py",
   "mimetype": "text/x-python",
   "name": "python",
   "nbconvert_exporter": "python",
   "pygments_lexer": "ipython3",
   "version": "3.11.4"
  }
 },
 "nbformat": 4,
 "nbformat_minor": 5
}
