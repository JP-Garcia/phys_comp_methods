{
 "cells": [
  {
   "cell_type": "markdown",
   "id": "3ca627cc-ff0f-4484-b12d-d97bebea06c5",
   "metadata": {},
   "source": [
    "## Projectile Motion\n",
    "\n",
    "x                        \\\n",
    "x_dot <-- T              \\\n",
    "x_dot_dot = -c*v         \\\n",
    "\n",
    "y                        \\\n",
    "y_dot                    \\\n",
    "y_dot_dot = -g -c*v         "
   ]
  },
  {
   "cell_type": "code",
   "execution_count": 1,
   "id": "6d8f2c4c-c6dd-4546-b0ce-2d5a8997f4fe",
   "metadata": {
    "tags": []
   },
   "outputs": [],
   "source": [
    "def proj(f, x0=0, y0=0, z0=0, t0=0.0, tf=10.0, dt=2**-5):\n",
    "    r = np.array([x0,y0,z0], float) #init conditions\n",
    "\n",
    "    tpoints = np.arange(t0,tf,dt)\n",
    "    xpoints  = []\n",
    "    vxpoints = []\n",
    "    ypoints  = []\n",
    "    vypoints = []\n",
    "\n",
    "    for t in tpoints:\n",
    "        xpoints.append(r[0])\n",
    "        vxpoints.append(r[1])\n",
    "        ypoints.append(r[2])\n",
    "        vypoints.append(r[3])\n",
    "        k1 = dt*f(r,t)\n",
    "        k2 = dt*f(r+0.5*k1, t+0.5*dt)\n",
    "        k3 = dt*f(r+0.5*k2, t+0.5*dt)\n",
    "        k4 = dt*f(r+0.5*k3, t+0.5*dt)\n",
    "        r = r + (k1+2*k2+2*k3+k4)/6\n",
    "    \n",
    "    return tpoints, xpoints, ypoints #, zpoints"
   ]
  },
  {
   "cell_type": "code",
   "execution_count": 2,
   "id": "03de5482-0f8d-40ea-ba82-b5bf4acec348",
   "metadata": {
    "tags": []
   },
   "outputs": [],
   "source": [
    "def f(r,t):\n",
    "    x   = r[0]\n",
    "    vx  = r[1]\n",
    "    y   = r[2]\n",
    "    vx  = r[3]\n",
    "#    z = r[4]\n",
    "    R   =  10# radius\n",
    "    m   =  10# mass\n",
    "    g   = 9.8 # grav\n",
    "    rho = 0\n",
    "    C   = 1 # drag\n",
    "    \n",
    "    fx  = vx\n",
    "    fvx = -C*vx*np.sqrt(vx**2 + vy**2)\n",
    "    fy  = vy\n",
    "    fvy = -g -C*vynp.sqrt(vx**2 + vy**2)\n",
    "    return np.array([fx, fvx, fy, fvy], float)\n",
    "# in order for object to float, force of boyancy (c1) > grav + c2"
   ]
  },
  {
   "cell_type": "code",
   "execution_count": 3,
   "id": "cc60ee4d-55a7-4d2e-a987-b81b9472237d",
   "metadata": {},
   "outputs": [],
   "source": [
    "def graph(x,y):\n",
    "    fig, ax = plt.subplots()\n",
    "    ax.plot(x, y)"
   ]
  },
  {
   "cell_type": "code",
   "execution_count": 4,
   "id": "9ba24f45-48f0-467c-abe5-3ede5563c58b",
   "metadata": {
    "tags": []
   },
   "outputs": [
    {
     "ename": "IndexError",
     "evalue": "index 3 is out of bounds for axis 0 with size 3",
     "output_type": "error",
     "traceback": [
      "\u001b[1;31m---------------------------------------------------------------------------\u001b[0m",
      "\u001b[1;31mIndexError\u001b[0m                                Traceback (most recent call last)",
      "Cell \u001b[1;32mIn[4], line 1\u001b[0m\n\u001b[1;32m----> 1\u001b[0m t,x,y \u001b[38;5;241m=\u001b[39m proj(f, y0\u001b[38;5;241m=\u001b[39m\u001b[38;5;241m10\u001b[39m)\n",
      "Cell \u001b[1;32mIn[1], line 14\u001b[0m, in \u001b[0;36mproj\u001b[1;34m(f, x0, y0, z0, t0, tf, dt)\u001b[0m\n\u001b[0;32m     12\u001b[0m vxpoints\u001b[38;5;241m.\u001b[39mappend(r[\u001b[38;5;241m1\u001b[39m])\n\u001b[0;32m     13\u001b[0m ypoints\u001b[38;5;241m.\u001b[39mappend(r[\u001b[38;5;241m2\u001b[39m])\n\u001b[1;32m---> 14\u001b[0m vypoints\u001b[38;5;241m.\u001b[39mappend(r[\u001b[38;5;241m3\u001b[39m])\n\u001b[0;32m     15\u001b[0m k1 \u001b[38;5;241m=\u001b[39m dt\u001b[38;5;241m*\u001b[39mf(r,t)\n\u001b[0;32m     16\u001b[0m k2 \u001b[38;5;241m=\u001b[39m dt\u001b[38;5;241m*\u001b[39mf(r\u001b[38;5;241m+\u001b[39m\u001b[38;5;241m0.5\u001b[39m\u001b[38;5;241m*\u001b[39mk1, t\u001b[38;5;241m+\u001b[39m\u001b[38;5;241m0.5\u001b[39m\u001b[38;5;241m*\u001b[39mdt)\n",
      "\u001b[1;31mIndexError\u001b[0m: index 3 is out of bounds for axis 0 with size 3"
     ]
    }
   ],
   "source": [
    "t,x,y = proj(f, y0=10)"
   ]
  },
  {
   "cell_type": "code",
   "execution_count": null,
   "id": "33670ff6-c281-4c72-a9e7-ae0ac8516faa",
   "metadata": {},
   "outputs": [],
   "source": []
  }
 ],
 "metadata": {
  "kernelspec": {
   "display_name": "Python 3 (ipykernel)",
   "language": "python",
   "name": "python3"
  },
  "language_info": {
   "codemirror_mode": {
    "name": "ipython",
    "version": 3
   },
   "file_extension": ".py",
   "mimetype": "text/x-python",
   "name": "python",
   "nbconvert_exporter": "python",
   "pygments_lexer": "ipython3",
   "version": "3.11.4"
  }
 },
 "nbformat": 4,
 "nbformat_minor": 5
}
