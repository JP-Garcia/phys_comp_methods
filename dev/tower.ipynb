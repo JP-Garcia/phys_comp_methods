{
 "cells": [
  {
   "cell_type": "code",
   "execution_count": 10,
   "id": "05a403e5-af13-40fa-81a3-8302468b865f",
   "metadata": {
    "tags": []
   },
   "outputs": [
    {
     "name": "stdin",
     "output_type": "stream",
     "text": [
      "Enter tower height in meters:  122.625\n",
      "Enter drop time in seconds:  6\n"
     ]
    },
    {
     "name": "stdout",
     "output_type": "stream",
     "text": [
      "Rock would have continued -53.95500000000001 meters below ground\n"
     ]
    }
   ],
   "source": [
    "#Enter height of tower & time, give position of object\n",
    "\n",
    "h = float(input(\"Enter tower height in meters: \"))\n",
    "t = float(input(\"Enter drop time in seconds: \"))\n",
    "g = 9.81\n",
    "\n",
    "x = h - .5 * g * t**2\n",
    "\n",
    "if (x > 0):\n",
    "    print(\"Position is\", x, \"meters above ground\")\n",
    "elif (x == 0):\n",
    "    print(\"Rock has landed on ground\")\n",
    "else:\n",
    "    print(\"Rock would have continued\", x, \"meters below ground\")"
   ]
  },
  {
   "cell_type": "code",
   "execution_count": 8,
   "id": "7ffa58c4-15ec-4dde-b9b4-ad611f9e8809",
   "metadata": {
    "tags": []
   },
   "outputs": [
    {
     "name": "stdin",
     "output_type": "stream",
     "text": [
      "Enter drop time in seconds:  5\n"
     ]
    },
    {
     "name": "stdout",
     "output_type": "stream",
     "text": [
      "Tower is 122.625 meters high\n"
     ]
    }
   ],
   "source": [
    "#Enter drop time, get height of tower\n",
    "\n",
    "t = float(input(\"Enter drop time in seconds: \"))\n",
    "g = 9.81\n",
    "\n",
    "h = .5 * g * t**2\n",
    "\n",
    "print(\"Tower is\", h, \"meters high\")"
   ]
  },
  {
   "cell_type": "code",
   "execution_count": 2,
   "id": "4cc7cfdb",
   "metadata": {
    "tags": []
   },
   "outputs": [
    {
     "name": "stdin",
     "output_type": "stream",
     "text": [
      "Enter tower height in meters:  2.2\n"
     ]
    },
    {
     "name": "stdout",
     "output_type": "stream",
     "text": [
      "Drop time is 0.6697177886332606 seconds\n"
     ]
    }
   ],
   "source": [
    "#Enter height of tower, get drop time\n",
    "import math\n",
    "\n",
    "h = float(input(\"Enter tower height in meters: \"))\n",
    "g = 9.81\n",
    "\n",
    "# h = .5 * g * t**2\n",
    "# h / (t**2) = .5 * g\n",
    "# 1 / (t**2) = (.5 * g) / h\n",
    "#    t**2  = h / (.5 * g)\n",
    "#    t = math.sqrt(h / (.5 * g))\n",
    "\n",
    "t = math.sqrt(h / (.5 * g))\n",
    "\n",
    "print(\"Drop time is\", t, \"seconds\")"
   ]
  },
  {
   "cell_type": "code",
   "execution_count": null,
   "id": "d23c27ed",
   "metadata": {},
   "outputs": [],
   "source": []
  }
 ],
 "metadata": {
  "kernelspec": {
   "display_name": "Python 3 (ipykernel)",
   "language": "python",
   "name": "python3"
  },
  "language_info": {
   "codemirror_mode": {
    "name": "ipython",
    "version": 3
   },
   "file_extension": ".py",
   "mimetype": "text/x-python",
   "name": "python",
   "nbconvert_exporter": "python",
   "pygments_lexer": "ipython3",
   "version": "3.11.4"
  }
 },
 "nbformat": 4,
 "nbformat_minor": 5
}
