{
 "cells": [
  {
   "cell_type": "markdown",
   "id": "983f4e74-9378-4224-9c2f-80b99bfd45d5",
   "metadata": {},
   "source": [
    "# Finding ROOTS!!\n",
    "## Newton's Methood\n",
    "$$  \n",
    "f(x) = f'(x_0)+f(x_0)(x-x_0)+\\frac{1}{2}f''(x_0)(x-x_0)^2 \\approx\n",
    "$$\n",
    "\\\n",
    "$$\n",
    "f(x) = f'(x_0)(x-x_0) \n",
    "$$\n",
    "## Secant Methood\n",
    "$$\n",
    "x_1 = x_0 - \\frac{(x_0-x_{-1})}{f'(x_0)-f'(x_{-1})} * f(x_0) \\approx\n",
    "$$\n",
    "\\\n",
    "$$\n",
    "x_{n+1} = x_n - \\frac{f(x_n)}{f'(x_n)} \\approx\n",
    "$$\n",
    "\\\n",
    "$$\n",
    "x_1 = x_1 - \\frac{x_1 - x_0}{f(x_1) - f(x_0)} * f(x_1)\n",
    "$$"
   ]
  },
  {
   "cell_type": "code",
   "execution_count": 2,
   "id": "57ba7018-7f60-4ce3-8343-e7d3a2f6613d",
   "metadata": {
    "tags": []
   },
   "outputs": [],
   "source": [
    "def graph(x,y):\n",
    "    fig, ax = plt.subplots()\n",
    "    for i in range(len(y)):\n",
    "        iType = str(type(i))\n",
    "        if (\"int\" in iType) or (\"float\" in iType):\n",
    "            print(iType)\n",
    "        ax.plot(x[i], y[i], \"o\")"
   ]
  },
  {
   "cell_type": "code",
   "execution_count": 3,
   "id": "ba8a7201-8c76-473f-9f6b-6d492c60ac91",
   "metadata": {
    "tags": []
   },
   "outputs": [],
   "source": [
    "def bisection(f, low, high, tolerance=2**-32):\n",
    "    midpoint = (low + high) / 2\n",
    "    while high-low > tolerance:\n",
    "        if f(low)*f(midpoint) < 0:\n",
    "            high = midpoint\n",
    "            midpoint = (low + high) / 2\n",
    "        elif f(high)*f(midpoint) < 0:\n",
    "            low = midpoint\n",
    "            midpoint = (low + high) / 2\n",
    "        elif f(low)*f(midpoint) > 0 and f(high)*f(midpoint) > 0:\n",
    "            print(\"No unique root in bracket\")\n",
    "            break\n",
    "    return midpoint"
   ]
  },
  {
   "cell_type": "code",
   "execution_count": 4,
   "id": "cd486825-7d88-4b61-a019-6106b1fbd953",
   "metadata": {
    "tags": []
   },
   "outputs": [],
   "source": [
    "def e4(x): return 5*np.exp(-x)+x-5\n",
    "def dfe4(x): return -5*np.exp(-x)+1"
   ]
  },
  {
   "cell_type": "code",
   "execution_count": 5,
   "id": "474ff551-4ac5-4a7e-b36a-7cccf57a0f67",
   "metadata": {
    "tags": []
   },
   "outputs": [],
   "source": [
    "def newton(f, df, guess, tolerance=2**-32):\n",
    "    x = guess\n",
    "    steps = 0\n",
    "    while abs(f(x)) > tolerance:\n",
    "        x = x - f(x)/df(x)\n",
    "        steps += 1\n",
    "    print(\"guess:\", guess, \"| steps:\", steps)\n",
    "    return x"
   ]
  },
  {
   "cell_type": "code",
   "execution_count": 6,
   "id": "510ef486-da5f-4350-956d-c61ef044ffbc",
   "metadata": {
    "tags": []
   },
   "outputs": [
    {
     "name": "stdout",
     "output_type": "stream",
     "text": [
      "guess: 10000000000000000 | steps: 4\n",
      "4.965114231752603\n",
      "\n",
      "guess: 3 | steps: 4\n",
      "4.965114231744276\n",
      "\n",
      "guess: 4 | steps: 3\n",
      "4.965114231752603\n",
      "\n",
      "guess: 5 | steps: 2\n",
      "4.965114231752603\n",
      "\n"
     ]
    }
   ],
   "source": [
    "print(newton(e4, dfe4, 10000000000000000))\n",
    "print()\n",
    "print(newton(e4, dfe4, 3))\n",
    "print()\n",
    "print(newton(e4, dfe4, 4))\n",
    "print()\n",
    "print(newton(e4, dfe4, 5))\n",
    "print()"
   ]
  },
  {
   "cell_type": "code",
   "execution_count": 7,
   "id": "ad607934-2fb9-471c-aafe-c74e792fcbfe",
   "metadata": {
    "jupyter": {
     "source_hidden": true
    },
    "tags": []
   },
   "outputs": [
    {
     "data": {
      "text/plain": [
       "1.6094379124341003"
      ]
     },
     "execution_count": 7,
     "metadata": {},
     "output_type": "execute_result"
    }
   ],
   "source": [
    "-np.log(1/5)"
   ]
  },
  {
   "cell_type": "code",
   "execution_count": 17,
   "id": "539646f6-dbd7-47ad-8265-a9979f2d7dce",
   "metadata": {
    "tags": []
   },
   "outputs": [],
   "source": [
    "# works without derivative\n",
    "def secant(f, guess, delta, tolerance=2**-32):\n",
    "    x0 = guess\n",
    "    x1 = x0+delta\n",
    "    n = 0\n",
    "    steps = 0\n",
    "    while abs(f(x1)) > tolerance:\n",
    "        x1 = x1 - (x1-x0)/(f(x1)-f(x0))*f(x1)\n",
    "        n += 1\n",
    "        steps += 1\n",
    "    return x1, n"
   ]
  },
  {
   "cell_type": "code",
   "execution_count": 18,
   "id": "4af9438c-cac3-40c1-bb5d-eadf68cb7613",
   "metadata": {},
   "outputs": [
    {
     "data": {
      "text/plain": [
       "(4.965114231723638, 10)"
      ]
     },
     "execution_count": 18,
     "metadata": {},
     "output_type": "execute_result"
    }
   ],
   "source": [
    "secant(e4, 3, 1)"
   ]
  },
  {
   "cell_type": "markdown",
   "id": "6b411609-9a3e-49f7-9642-20f4dd48b6ab",
   "metadata": {},
   "source": [
    "## Solving with boundry\n",
    "$$\n",
    "v_i = ? \\newline\n",
    "t = 10s \\newline\n",
    "y = 0\n",
    "$$"
   ]
  },
  {
   "cell_type": "code",
   "execution_count": null,
   "id": "0d79a2bb-a283-4c8b-a114-48f8f40bebee",
   "metadata": {},
   "outputs": [],
   "source": []
  }
 ],
 "metadata": {
  "kernelspec": {
   "display_name": "Python 3 (ipykernel)",
   "language": "python",
   "name": "python3"
  },
  "language_info": {
   "codemirror_mode": {
    "name": "ipython",
    "version": 3
   },
   "file_extension": ".py",
   "mimetype": "text/x-python",
   "name": "python",
   "nbconvert_exporter": "python",
   "pygments_lexer": "ipython3",
   "version": "3.11.4"
  }
 },
 "nbformat": 4,
 "nbformat_minor": 5
}
