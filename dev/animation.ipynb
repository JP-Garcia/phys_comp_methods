{
 "cells": [
  {
   "cell_type": "code",
   "execution_count": 20,
   "id": "696c4b87-ee5b-4102-b7e6-ac759117f30e",
   "metadata": {
    "tags": []
   },
   "outputs": [],
   "source": [
    "import matplotlib.pyplot as plt\n",
    "from mpl_toolkits.mplot3d import axes3d\n",
    "from numpy import sin, cos, pi, outer, ones, size, linspace\n",
    "\n",
    "# Define x, y, z lists for sphere\n",
    "a = linspace(0, 2 * pi)\n",
    "b = linspace(0, pi)\n",
    "x = 10 * outer(cos(a), sin(b))\n",
    "y = 10 * outer(sin(a), sin(b))\n",
    "z = 10 * outer(ones(size(a)), cos(b))\n",
    "\n",
    "# The amount of frames in the animation\n",
    "frames = 30\n",
    "\n",
    "# Generate each frame\n",
    "for n in range(frames):\n",
    "    fig = plt.figure(figsize=(10, 10))\n",
    "    ax = fig.add_subplot(111, projection='3d')\n",
    "    ax.plot_surface(x, y, z, color=('b'))\n",
    "    ax.set_xticks([])\n",
    "    ax.set_yticks([])\n",
    "    ax.set_zticks([])\n",
    "    ax.set_xlim(-20,20)\n",
    "    ax.set_xlim(-20,20)\n",
    "    ax.set_xlim(-20,20)\n",
    "    plt.savefig(f\"src/image/{n}.png\")\n",
    "    plt.close()\n",
    "    \n",
    "    # Add 1 to the x so the sphere moves right by 1\n",
    "    x += 1\n",
    "\n",
    "# Use pillow to save all frames as an animation in a gif file\n",
    "from PIL import Image\n",
    "\n",
    "images = [Image.open(f\"src/image/{n}.png\") for n in range(frames)]\n",
    "\n",
    "images[0].save('src/image/ball.gif', save_all=True, append_images=images[1:], duration=100, loop=0)"
   ]
  },
  {
   "cell_type": "code",
   "execution_count": 21,
   "id": "c86d5534-d4f5-4acb-9475-f914abf06e4a",
   "metadata": {},
   "outputs": [],
   "source": [
    "from IPython.display import Image"
   ]
  },
  {
   "cell_type": "markdown",
   "id": "d26256ca-20d8-433a-b192-8f69a947808c",
   "metadata": {
    "tags": []
   },
   "source": [
    "<img src=\"src/image/ball.gif\" width=\"200\" height=\"600\"/>"
   ]
  }
 ],
 "metadata": {
  "kernelspec": {
   "display_name": "Python 3 (ipykernel)",
   "language": "python",
   "name": "python3"
  },
  "language_info": {
   "codemirror_mode": {
    "name": "ipython",
    "version": 3
   },
   "file_extension": ".py",
   "mimetype": "text/x-python",
   "name": "python",
   "nbconvert_exporter": "python",
   "pygments_lexer": "ipython3",
   "version": "3.11.4"
  }
 },
 "nbformat": 4,
 "nbformat_minor": 5
}
