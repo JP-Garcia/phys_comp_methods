{
 "cells": [
  {
   "cell_type": "code",
   "execution_count": 5,
   "id": "a5d34972-fd3f-431d-892b-2f03d4606611",
   "metadata": {
    "tags": []
   },
   "outputs": [],
   "source": [
    "z = 'jordan'"
   ]
  },
  {
   "cell_type": "code",
   "execution_count": 6,
   "id": "a2e294a7-e425-4760-a9a9-71e570fe1df0",
   "metadata": {
    "tags": []
   },
   "outputs": [
    {
     "data": {
      "text/plain": [
       "str"
      ]
     },
     "execution_count": 6,
     "metadata": {},
     "output_type": "execute_result"
    }
   ],
   "source": [
    "type(z)"
   ]
  },
  {
   "cell_type": "code",
   "execution_count": 7,
   "id": "9c5f4fda-7cd8-4260-b725-892d3c0c6768",
   "metadata": {
    "tags": []
   },
   "outputs": [
    {
     "data": {
      "text/plain": [
       "'10492130949810'"
      ]
     },
     "execution_count": 7,
     "metadata": {},
     "output_type": "execute_result"
    }
   ],
   "source": [
    "num = 10492130949810\n",
    "\n",
    "str(num)\n"
   ]
  },
  {
   "cell_type": "code",
   "execution_count": 31,
   "id": "f79592cf-ec18-4458-8d01-07cca0879e38",
   "metadata": {
    "tags": []
   },
   "outputs": [],
   "source": [
    "lis = [0,1,2,3,4,5,6,7,8,9,10]\n",
    "lis2 = ['a', 'm', 'o', 'g', 'u', 's']\n",
    "lis3 = [5,7,1,3]"
   ]
  },
  {
   "cell_type": "code",
   "execution_count": 9,
   "id": "b483cdc6-6250-4a51-9289-0e11f65fd2b0",
   "metadata": {
    "tags": []
   },
   "outputs": [
    {
     "name": "stdout",
     "output_type": "stream",
     "text": [
      "1.2\n",
      "True\n",
      "3\n"
     ]
    }
   ],
   "source": [
    "i = 0\n",
    "while i < len(lis):\n",
    "    print(lis[i])\n",
    "    i += 1"
   ]
  },
  {
   "cell_type": "code",
   "execution_count": 19,
   "id": "c0088f50-6b8b-421e-a901-2c7f7977e0c7",
   "metadata": {},
   "outputs": [],
   "source": [
    "xx = 'Caroline is 19 years old'"
   ]
  },
  {
   "cell_type": "code",
   "execution_count": 42,
   "id": "f9b19cba-b58e-4596-9da1-67f7e67ff4bf",
   "metadata": {
    "tags": []
   },
   "outputs": [],
   "source": [
    "import numpy as np\n",
    "\n",
    "test7 = np.array([3,6,9,12,15,18])"
   ]
  },
  {
   "cell_type": "code",
   "execution_count": 44,
   "id": "3fa27e7d-4bf9-4789-9162-c82ebb5b1687",
   "metadata": {
    "tags": []
   },
   "outputs": [
    {
     "data": {
      "text/plain": [
       "array([12, 15])"
      ]
     },
     "execution_count": 44,
     "metadata": {},
     "output_type": "execute_result"
    }
   ],
   "source": [
    "test7[3:5]"
   ]
  },
  {
   "cell_type": "code",
   "execution_count": 45,
   "id": "2fb7cee1-5d18-4804-b201-f0fea0f16f35",
   "metadata": {
    "tags": []
   },
   "outputs": [],
   "source": [
    "test8 = test7 + 1"
   ]
  },
  {
   "cell_type": "code",
   "execution_count": 46,
   "id": "5ea803a6-4f4c-469e-b936-2c1315780e12",
   "metadata": {
    "tags": []
   },
   "outputs": [
    {
     "data": {
      "text/plain": [
       "array([ 4,  7, 10, 13, 16, 19])"
      ]
     },
     "execution_count": 46,
     "metadata": {},
     "output_type": "execute_result"
    }
   ],
   "source": [
    "test8"
   ]
  },
  {
   "cell_type": "code",
   "execution_count": 49,
   "id": "27f7e82d-ace5-40d2-8cfa-d8c3e0134bcf",
   "metadata": {
    "tags": []
   },
   "outputs": [],
   "source": [
    "strtest = np.array([\"yolo\", \"ebola\", 1, 5.0])"
   ]
  },
  {
   "cell_type": "code",
   "execution_count": 50,
   "id": "46b07999-f3a1-4f36-8b55-3095fbb878a3",
   "metadata": {
    "tags": []
   },
   "outputs": [
    {
     "data": {
      "text/plain": [
       "array(['yolo', 'ebola', '1', '5.0'], dtype='<U32')"
      ]
     },
     "execution_count": 50,
     "metadata": {},
     "output_type": "execute_result"
    }
   ],
   "source": [
    "strtest"
   ]
  },
  {
   "cell_type": "code",
   "execution_count": null,
   "id": "4b936778-9dd7-4e8d-920c-2760bae8aa95",
   "metadata": {},
   "outputs": [],
   "source": []
  }
 ],
 "metadata": {
  "kernelspec": {
   "display_name": "Python 3 (ipykernel)",
   "language": "python",
   "name": "python3"
  },
  "language_info": {
   "codemirror_mode": {
    "name": "ipython",
    "version": 3
   },
   "file_extension": ".py",
   "mimetype": "text/x-python",
   "name": "python",
   "nbconvert_exporter": "python",
   "pygments_lexer": "ipython3",
   "version": "3.11.4"
  }
 },
 "nbformat": 4,
 "nbformat_minor": 5
}
