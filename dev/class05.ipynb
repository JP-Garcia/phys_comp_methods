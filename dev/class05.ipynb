{
 "cells": [
  {
   "cell_type": "markdown",
   "id": "5b0dbcb3-4c69-4941-933d-8e3e1c70adb1",
   "metadata": {},
   "source": [
    "# Class 5\n",
    "\n",
    "HW: add the riciprical of numbers 1 to 100"
   ]
  },
  {
   "cell_type": "code",
   "execution_count": 13,
   "id": "56350bed-ae6d-46ee-bb99-ae137d4ca323",
   "metadata": {
    "tags": []
   },
   "outputs": [
    {
     "name": "stdout",
     "output_type": "stream",
     "text": [
      "5.187377517639621\n"
     ]
    }
   ],
   "source": [
    "rep = 0\n",
    "\n",
    "for i in range(100):\n",
    "    rep = rep + 1/(i+1)\n",
    "\n",
    "print(rep)"
   ]
  },
  {
   "cell_type": "code",
   "execution_count": null,
   "id": "9a939fe4-6d6b-4f56-b313-fcfe2921268a",
   "metadata": {},
   "outputs": [],
   "source": []
  }
 ],
 "metadata": {
  "kernelspec": {
   "display_name": "Python 3 (ipykernel)",
   "language": "python",
   "name": "python3"
  },
  "language_info": {
   "codemirror_mode": {
    "name": "ipython",
    "version": 3
   },
   "file_extension": ".py",
   "mimetype": "text/x-python",
   "name": "python",
   "nbconvert_exporter": "python",
   "pygments_lexer": "ipython3",
   "version": "3.11.4"
  }
 },
 "nbformat": 4,
 "nbformat_minor": 5
}
