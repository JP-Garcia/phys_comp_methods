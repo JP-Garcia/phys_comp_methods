{
 "cells": [
  {
   "cell_type": "markdown",
   "id": "a037b5e5-f6de-4035-9fbf-0eebe88b5420",
   "metadata": {},
   "source": [
    "# Partial Differential Equasions\n",
    "\n",
    "f(x,y) = 4 * x^2 * y\n",
    "\n",
    "del*f = df/dx * x_hat + df/dy * y_hat\n",
    "\n",
    "del^2 * f = 2nd_df/dx + 2nd_df/dy = 0\n",
    "\n",
    "2nd derivative of a trajectory curve is negative, because acceleration (gravity) is negative --> concave down\n",
    "\n",
    "if both 2nd derivatives add up to 0, one must be positive and one must be negative.\n",
    "\n",
    "Any function that satisfies our (del^2 * f) function has two opposite curves, so that the average of each direction are equal to eachother.\n",
    "\n",
    "Partial derivatives always have boundries\n",
    "\n",
    "\n",
    "\n"
   ]
  },
  {
   "cell_type": "code",
   "execution_count": null,
   "id": "62aea338-20d0-4b63-a665-f2092f01723c",
   "metadata": {},
   "outputs": [],
   "source": []
  }
 ],
 "metadata": {
  "kernelspec": {
   "display_name": "Python 3 (ipykernel)",
   "language": "python",
   "name": "python3"
  },
  "language_info": {
   "codemirror_mode": {
    "name": "ipython",
    "version": 3
   },
   "file_extension": ".py",
   "mimetype": "text/x-python",
   "name": "python",
   "nbconvert_exporter": "python",
   "pygments_lexer": "ipython3",
   "version": "3.11.4"
  }
 },
 "nbformat": 4,
 "nbformat_minor": 5
}
