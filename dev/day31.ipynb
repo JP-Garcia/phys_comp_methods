{
 "cells": [
  {
   "cell_type": "markdown",
   "id": "3b4ebc3f-5be1-4fea-a279-41d442addcf7",
   "metadata": {},
   "source": [
    "## Solving with boundry\n",
    "$$\n",
    "v_i = ? \\newline\n",
    "t = 10s \\newline\n",
    "y = 0\n",
    "$$\n",
    "Turn a into two differential equasions\n",
    "$$\n",
    "a = -g ==> \\frac{dv}{dt} = -g ==> \\frac{d^2y}{dt^2} = -g ==> \\frac{dy}{dt} = v, \\frac{dv}{dt} = -g \n",
    "$$"
   ]
  },
  {
   "cell_type": "code",
   "execution_count": 3,
   "id": "f8480ad8-d6bb-4315-b2da-c8fd1d61873e",
   "metadata": {
    "tags": []
   },
   "outputs": [],
   "source": [
    "g = 9.81 #m/s^2\n",
    "\n",
    "def trajectory(r,t):\n",
    "    y = r[0] # position\n",
    "    v = r[1] # velocity\n",
    "    fy = v\n",
    "    fv = -g\n",
    "    return np.array([fy, fv], float)"
   ]
  },
  {
   "cell_type": "code",
   "execution_count": 4,
   "id": "0dbf117d-3de4-4145-a85c-248e2ddec812",
   "metadata": {
    "tags": []
   },
   "outputs": [],
   "source": [
    "def crk4(f, x0=0, v0=0, t0=0.0, tf=10.0, dt=2**-5):\n",
    "    r = np.array([x0,v0], float) #init conditions\n",
    "\n",
    "    tpoints = np.arange(t0,tf,dt)\n",
    "    xpoints = []\n",
    "    vpoints = []\n",
    "\n",
    "    for t in tpoints:\n",
    "        xpoints.append(r[0])\n",
    "        vpoints.append(r[1])\n",
    "        k1 = dt*f(r,t)\n",
    "        k2 = dt*f(r+0.5*k1, t+0.5*dt)\n",
    "        k3 = dt*f(r+0.5*k2, t+0.5*dt)\n",
    "        k4 = dt*f(r+0.5*k3, t+0.5*dt)\n",
    "        r = r + (k1+2*k2+2*k3+k4)/6\n",
    "    \n",
    "    return tpoints, xpoints, vpoints\n",
    "\n",
    "def bisection(f, low, high, tolerance=2**-32):\n",
    "    mid = (low + high) / 2\n",
    "    while high-low > tolerance:\n",
    "        if f(low)*f(mid) < 0:\n",
    "            high = mid\n",
    "            mid = (low + high) / 2\n",
    "        elif f(high)*f(mid) < 0:\n",
    "            low = mid\n",
    "            mid = (low + high) / 2\n",
    "        elif f(low)*f(mid) > 0 and f(high)*f(mid) > 0:\n",
    "            print(\"No unique root in bracket\")\n",
    "            break\n",
    "    return mid\n",
    "\n",
    "# we only want initial velocity: cleanup crk4 function\n",
    "def crk4end(f, tf=10.0, x0=0, v0=0, t0=0.0, dt=2**-5):\n",
    "    r = np.array([x0,v0], float) #init conditions\n",
    "\n",
    "    tpoints = np.arange(t0,tf,dt)\n",
    "    # xpoints = []\n",
    "    # vpoints = []\n",
    "\n",
    "    for t in tpoints:\n",
    "        # xpoints.append(r[0])\n",
    "        # vpoints.append(r[1])\n",
    "        k1 = dt*f(r,t)\n",
    "        k2 = dt*f(r+0.5*k1, t+0.5*dt)\n",
    "        k3 = dt*f(r+0.5*k2, t+0.5*dt)\n",
    "        k4 = dt*f(r+0.5*k3, t+0.5*dt)\n",
    "        r = r + (k1+2*k2+2*k3+k4)/6\n",
    "    \n",
    "    # don't stop untill y = 0\n",
    "    \n",
    "    return r[0] # last position after t amount of time\n",
    "\n",
    "def height(v):\n",
    "    return crk4end(trajectory, 10.0, 0.0, v)\n",
    "    \n",
    "\n",
    "def secant(f, guess, delta, tolerance=2**-32):\n",
    "    x0 = guess\n",
    "    x1 = x0+delta\n",
    "    n = 0\n",
    "    steps = 0\n",
    "    while abs(f(x1)) > tolerance:\n",
    "        x1 = x1 - (x1-x0)/(f(x1)-f(x0))*f(x1)\n",
    "        n += 1\n",
    "        steps += 1\n",
    "        print(x1)\n",
    "    return x1, n"
   ]
  },
  {
   "cell_type": "code",
   "execution_count": 5,
   "id": "3a13b8d9-621a-4bd0-a0b3-36360678ef39",
   "metadata": {
    "tags": []
   },
   "outputs": [
    {
     "data": {
      "text/plain": [
       "49.02445312504109"
      ]
     },
     "execution_count": 5,
     "metadata": {},
     "output_type": "execute_result"
    }
   ],
   "source": [
    "# start, end\n",
    "v0 = 0.001\n",
    "v1 = 1000.0\n",
    "bisection(height, v0, v1)"
   ]
  },
  {
   "cell_type": "code",
   "execution_count": 15,
   "id": "c204bd1e-f981-4520-a65b-bd6094360164",
   "metadata": {
    "tags": []
   },
   "outputs": [
    {
     "name": "stdout",
     "output_type": "stream",
     "text": [
      "23.675047302246018\n",
      "49.024453124999916\n"
     ]
    },
    {
     "data": {
      "text/plain": [
       "(49.024453124999916, 2)"
      ]
     },
     "execution_count": 15,
     "metadata": {},
     "output_type": "execute_result"
    }
   ],
   "source": [
    "secant(height, 3, .00000000000001)"
   ]
  },
  {
   "cell_type": "code",
   "execution_count": null,
   "id": "f05f04e7-76a5-420d-a79d-50c22d6f12f6",
   "metadata": {},
   "outputs": [],
   "source": []
  }
 ],
 "metadata": {
  "kernelspec": {
   "display_name": "Python 3 (ipykernel)",
   "language": "python",
   "name": "python3"
  },
  "language_info": {
   "codemirror_mode": {
    "name": "ipython",
    "version": 3
   },
   "file_extension": ".py",
   "mimetype": "text/x-python",
   "name": "python",
   "nbconvert_exporter": "python",
   "pygments_lexer": "ipython3",
   "version": "3.11.4"
  }
 },
 "nbformat": 4,
 "nbformat_minor": 5
}
