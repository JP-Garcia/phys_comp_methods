{
 "cells": [
  {
   "cell_type": "markdown",
   "id": "5c0e46f8-f99b-4144-9c10-266ecfd78c9c",
   "metadata": {},
   "source": [
    "# Day 18"
   ]
  },
  {
   "cell_type": "code",
   "execution_count": 1,
   "id": "1a0aa499-508a-4b1d-89a8-5888f34973b8",
   "metadata": {
    "tags": []
   },
   "outputs": [],
   "source": [
    "import math\n",
    "import numpy as np"
   ]
  },
  {
   "cell_type": "code",
   "execution_count": 2,
   "id": "94bb92a9-cc08-4fdf-9432-70367026c799",
   "metadata": {
    "tags": []
   },
   "outputs": [],
   "source": [
    "# Gaussian-Laguerre Quadrature\n",
    "# Integral from 0 to infinity\n",
    "def gaussLagQuad8(function):\n",
    "    x=np.asarray([1.7027963230510100e-1, 9.0370177679937991e-1,\\\n",
    "       2.2510866298661307,    4.2667001702876588,\\\n",
    "       7.0459054023934657,    1.0758516010180995e+1,\\\n",
    "       1.5740678641278005e+1, 2.2863131736889264e+1])\n",
    "    w=np.asarray([3.6918858934163753e-1, 4.1878678081434296e-1,\\\n",
    "       1.7579498663717181e-1, 3.3343492261215652e-2,\\\n",
    "       2.7945362352256725e-3, 9.0765087733582131e-5,\\\n",
    "       8.4857467162725315e-7, 1.0480011748715104e-9])\n",
    "    integral = np.sum(w*function(x))\n",
    "    return(integral)"
   ]
  },
  {
   "cell_type": "code",
   "execution_count": 3,
   "id": "882c0e63-e095-437a-8a0f-9572197d271a",
   "metadata": {
    "tags": []
   },
   "outputs": [],
   "source": [
    "# Gaussian Hermite Quadrature\n",
    "# Integral from -infinity to infinity\n",
    "def gaussHermQuad8(function):\n",
    "    x = np.asarray([-0.38118699,-1.157193712,-1.981656757,-2.93063742,0.38118699,1.157193712,1.981656757,2.93063742])\n",
    "    w = np.asarray([0.661147013,0.207802326,0.017077983,0.000199604,0.661147013,0.207802326,0.017077983,.000199604])\n",
    "    integral = np.sum(w*function(x))\n",
    "    return(integral)"
   ]
  },
  {
   "cell_type": "code",
   "execution_count": 4,
   "id": "8708caa7-2419-4b1d-95e8-6d3a5fbb3139",
   "metadata": {
    "tags": []
   },
   "outputs": [],
   "source": [
    "# Gaussian-Legendn Quadrature\n",
    "# Integral from -1 to 1\n",
    "def gaussLegQuad8(function):\n",
    "    x = np.asarray([-0.183434643,-0.52553241,-0.796666477,-0.960289857,0.183434643,0.52553241,0.796666477,0.960289857])\n",
    "    w = np.asarray([0.362683783,0.313706646,0.222381035,0.101228536,0.362683783,0.313706646,0.222381035,0.101228536])\n",
    "    integral = np.sum(w*function(x))\n",
    "    return integral"
   ]
  },
  {
   "cell_type": "code",
   "execution_count": 5,
   "id": "e8d706cc-4ab5-4391-82e6-3da1314b52d1",
   "metadata": {
    "tags": []
   },
   "outputs": [],
   "source": [
    "def myFunc(x):return (x**3 / (1-np.exp(-x)))\n",
    "# same as [def myFunc(x):return (x**3 / (1-math.e**(-x)))]"
   ]
  },
  {
   "cell_type": "code",
   "execution_count": 8,
   "id": "520041d2-abb5-413c-99f8-54bc140fe505",
   "metadata": {
    "tags": []
   },
   "outputs": [],
   "source": [
    "def eNeg(x): return np.exp(-x)"
   ]
  },
  {
   "cell_type": "code",
   "execution_count": 7,
   "id": "d6b2e2da-f6c0-40b5-aaa1-d87b67ac6cf3",
   "metadata": {
    "tags": []
   },
   "outputs": [
    {
     "data": {
      "text/plain": [
       "6.493935665352684"
      ]
     },
     "execution_count": 7,
     "metadata": {},
     "output_type": "execute_result"
    }
   ],
   "source": [
    "gaussLagQuad8(myFunc)"
   ]
  },
  {
   "cell_type": "code",
   "execution_count": 39,
   "id": "a24ae32c-61f9-481b-9a23-7733be146128",
   "metadata": {
    "tags": []
   },
   "outputs": [],
   "source": [
    "def myFunc2(x):return (1/((1-x)**2 * np.exp(-x)))"
   ]
  },
  {
   "cell_type": "code",
   "execution_count": 9,
   "id": "d1d0c5c2-f476-4dfa-ab3a-b6057850e5fc",
   "metadata": {
    "tags": []
   },
   "outputs": [
    {
     "data": {
      "text/plain": [
       "0.49999992633245366"
      ]
     },
     "execution_count": 9,
     "metadata": {},
     "output_type": "execute_result"
    }
   ],
   "source": [
    "gaussLagQuad8(eNeg)"
   ]
  },
  {
   "cell_type": "code",
   "execution_count": null,
   "id": "d2e113e3-eaca-42a2-a8fc-fcfd88270677",
   "metadata": {
    "tags": []
   },
   "outputs": [],
   "source": []
  },
  {
   "cell_type": "code",
   "execution_count": null,
   "id": "b2f4233c-bd49-4527-b4ab-6e9139f660c1",
   "metadata": {},
   "outputs": [],
   "source": []
  },
  {
   "cell_type": "code",
   "execution_count": null,
   "id": "43b9133a-f169-43ad-80e6-8ce16d2b92bf",
   "metadata": {},
   "outputs": [],
   "source": []
  }
 ],
 "metadata": {
  "kernelspec": {
   "display_name": "Python 3 (ipykernel)",
   "language": "python",
   "name": "python3"
  },
  "language_info": {
   "codemirror_mode": {
    "name": "ipython",
    "version": 3
   },
   "file_extension": ".py",
   "mimetype": "text/x-python",
   "name": "python",
   "nbconvert_exporter": "python",
   "pygments_lexer": "ipython3",
   "version": "3.11.4"
  }
 },
 "nbformat": 4,
 "nbformat_minor": 5
}
