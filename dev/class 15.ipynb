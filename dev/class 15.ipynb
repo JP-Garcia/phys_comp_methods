{
 "cells": [
  {
   "cell_type": "markdown",
   "id": "515f7ec5-61bb-4587-9720-89b87c7a98f1",
   "metadata": {},
   "source": [
    "# Trapezoid Rule on Lists"
   ]
  },
  {
   "cell_type": "code",
   "execution_count": 1,
   "id": "5bcfd73e-5c63-4e37-848a-c4420e95542e",
   "metadata": {
    "tags": []
   },
   "outputs": [],
   "source": [
    "import numpy as np\n",
    "import pandas as pn\n",
    "import matplotlib.pyplot as plt"
   ]
  },
  {
   "cell_type": "code",
   "execution_count": 2,
   "id": "cfd0fa91-d3da-4bc9-9865-125a8c97f5cb",
   "metadata": {
    "tags": []
   },
   "outputs": [],
   "source": [
    "pn_lis = pn.read_csv('../data/velocities.txt', delimiter='\\t', header=None)\n",
    "lis = np.loadtxt('../data/velocities.txt', delimiter='\\t', unpack=True)\n",
    "x, y = lis"
   ]
  },
  {
   "cell_type": "code",
   "execution_count": 3,
   "id": "0a3d6373-9921-4fae-b435-c4245503219b",
   "metadata": {
    "tags": []
   },
   "outputs": [
    {
     "data": {
      "text/plain": [
       "(array([  0.,   1.,   2.,   3.,   4.,   5.,   6.,   7.,   8.,   9.,  10.,\n",
       "         11.,  12.,  13.,  14.,  15.,  16.,  17.,  18.,  19.,  20.,  21.,\n",
       "         22.,  23.,  24.,  25.,  26.,  27.,  28.,  29.,  30.,  31.,  32.,\n",
       "         33.,  34.,  35.,  36.,  37.,  38.,  39.,  40.,  41.,  42.,  43.,\n",
       "         44.,  45.,  46.,  47.,  48.,  49.,  50.,  51.,  52.,  53.,  54.,\n",
       "         55.,  56.,  57.,  58.,  59.,  60.,  61.,  62.,  63.,  64.,  65.,\n",
       "         66.,  67.,  68.,  69.,  70.,  71.,  72.,  73.,  74.,  75.,  76.,\n",
       "         77.,  78.,  79.,  80.,  81.,  82.,  83.,  84.,  85.,  86.,  87.,\n",
       "         88.,  89.,  90.,  91.,  92.,  93.,  94.,  95.,  96.,  97.,  98.,\n",
       "         99., 100.]),\n",
       " array([ 0.      ,  0.069478,  0.137694,  0.204332,  0.269083,  0.331656,\n",
       "         0.391771,  0.449167,  0.503598,  0.554835,  0.60267 ,  0.646912,\n",
       "         0.687392,  0.723961,  0.756491,  0.784876,  0.809032,  0.828897,\n",
       "         0.844428,  0.855608,  0.862439,  0.864945,  0.863172,  0.857184,\n",
       "         0.847067,  0.832926,  0.814882,  0.793077,  0.767666,  0.738824,\n",
       "         0.706736,  0.671603,  0.633638,  0.593065,  0.550118,  0.505039,\n",
       "         0.458077,  0.409488,  0.359533,  0.308474,  0.256576,  0.204107,\n",
       "         0.15133 ,  0.098509,  0.045905, -0.006228, -0.05764 , -0.108088,\n",
       "        -0.157338, -0.205163, -0.251347, -0.295685, -0.337984, -0.378064,\n",
       "        -0.415757, -0.450909, -0.483382, -0.513052, -0.539809, -0.563563,\n",
       "        -0.584234, -0.601764, -0.616107, -0.627235, -0.635136, -0.639814,\n",
       "        -0.641289, -0.639596, -0.634786, -0.626922, -0.616085, -0.602366,\n",
       "        -0.585872, -0.56672 , -0.545039, -0.52097 , -0.494661, -0.466272,\n",
       "        -0.43597 , -0.403929, -0.37033 , -0.335357, -0.299201, -0.262054,\n",
       "        -0.224114, -0.185575, -0.146636, -0.107492, -0.068339, -0.02937 ,\n",
       "         0.009227,  0.047268,  0.084574,  0.12097 ,  0.15629 ,  0.190375,\n",
       "         0.223073,  0.254244,  0.283753,  0.311479,  0.337308]))"
      ]
     },
     "execution_count": 3,
     "metadata": {},
     "output_type": "execute_result"
    }
   ],
   "source": [
    "x, y"
   ]
  },
  {
   "cell_type": "code",
   "execution_count": 10,
   "id": "34feed4d-6764-4fd0-8792-d82e5a5f7f16",
   "metadata": {
    "tags": []
   },
   "outputs": [
    {
     "data": {
      "text/plain": [
       "[<matplotlib.lines.Line2D at 0x7fd464e3d610>]"
      ]
     },
     "execution_count": 10,
     "metadata": {},
     "output_type": "execute_result"
    },
    {
     "data": {
      "image/png": "[encoded data removed]",
      "text/plain": [
       "<Figure size 640x480 with 1 Axes>"
      ]
     },
     "metadata": {},
     "output_type": "display_data"
    }
   ],
   "source": [
    "fig0, ax0 = plt.subplots()\n",
    "\n",
    "ax0.plot(x, y)\n",
    "ax0.plot(integrateLis(lis))"
   ]
  },
  {
   "cell_type": "code",
   "execution_count": 6,
   "id": "40ebedf7-6fc4-45b3-9731-e9c496027cee",
   "metadata": {},
   "outputs": [],
   "source": [
    "def integrate(func, a, b, steps):\n",
    "    x = np.linspace(a, b, steps+1)\n",
    "    y = func(x)\n",
    "    \n",
    "    h = (b-a)/steps\n",
    "\n",
    "    s_terms = (func(a)+func(b))*h/2\n",
    "    \n",
    "    #for i in x[1:-1]:\n",
    "    #    s = s + func(i)*h\n",
    "    \n",
    "    #s_total = s_terms + np.sum(func(x[1:-1])*h)\n",
    "    \n",
    "    s_total = s_terms + np.sum(y[1:steps]*h)\n",
    "    \n",
    "    return s_total"
   ]
  },
  {
   "cell_type": "code",
   "execution_count": 7,
   "id": "dd95153d-c1ee-4731-942f-33d42467eaf2",
   "metadata": {
    "tags": []
   },
   "outputs": [],
   "source": [
    "def integrateGraph(func, a, b, steps):\n",
    "    x = np.linspace(a, b, steps+1)\n",
    "    y = func(x)\n",
    "    \n",
    "    h = (b-a)/steps\n",
    "\n",
    "    s_terms = (func(a)+func(b))*h/2\n",
    "\n",
    "    s = []\n",
    "    for i in x:\n",
    "        s = np.append(s, integrate(func, i, i+1, steps))\n",
    "        \n",
    "    \n",
    "    return s"
   ]
  },
  {
   "cell_type": "code",
   "execution_count": 8,
   "id": "2e2abcc4-4c34-48a3-b351-d48e58c8de9f",
   "metadata": {},
   "outputs": [],
   "source": [
    "def integrateLis(lis):\n",
    "    x = lis[0]\n",
    "    y = lis[1]\n",
    "    \n",
    "    a = x[0]\n",
    "    b = x[len(x)-1]\n",
    "    \n",
    "    s = [0]\n",
    "    for i in range(len(y)-1):\n",
    "        s.append(s[-1] + (y[i] + y[i+1])/2*(x[i+1]-x[i]))\n",
    "    \n",
    "    #h = (b-a)/steps\n",
    "\n",
    "    #s_terms = (func(a)+func(b))*h/2\n",
    "    \n",
    "    #for i in x[1:-1]:\n",
    "    #    s = s + func(i)*h\n",
    "    \n",
    "    #s_total = s_terms + np.sum(func(x[1:-1])*h)\n",
    "    \n",
    "    #s_total = s_terms + np.sum(y[1:steps]*h)\n",
    "    \n",
    "    return s"
   ]
  },
  {
   "cell_type": "code",
   "execution_count": 11,
   "id": "3120330b-4814-48e1-b5fd-f784cea1a6fb",
   "metadata": {
    "tags": []
   },
   "outputs": [
    {
     "data": {
      "text/plain": [
       "[0,\n",
       " 0.034739,\n",
       " 0.138325,\n",
       " 0.309338,\n",
       " 0.5460455,\n",
       " 0.8464149999999999,\n",
       " 1.2081285,\n",
       " 1.6285975,\n",
       " 2.10498,\n",
       " 2.6341965,\n",
       " 3.212949,\n",
       " 3.83774,\n",
       " 4.504892,\n",
       " 5.2105685,\n",
       " 5.9507945,\n",
       " 6.721477999999999,\n",
       " 7.518431999999999,\n",
       " 8.337396499999999,\n",
       " 9.174058999999998,\n",
       " 10.024076999999998,\n",
       " 10.883100499999998,\n",
       " 11.746792499999998,\n",
       " 12.610850999999998,\n",
       " 13.471028999999998,\n",
       " 14.323154499999998,\n",
       " 15.163150999999997,\n",
       " 15.987054999999998,\n",
       " 16.7910345,\n",
       " 17.571406,\n",
       " 18.324651,\n",
       " 19.047431,\n",
       " 19.736600499999998,\n",
       " 20.389221,\n",
       " 21.0025725,\n",
       " 21.574164,\n",
       " 22.1017425,\n",
       " 22.5833005,\n",
       " 23.017083,\n",
       " 23.4015935,\n",
       " 23.735597000000002,\n",
       " 24.018122,\n",
       " 24.248463500000003,\n",
       " 24.426182000000004,\n",
       " 24.551101500000005,\n",
       " 24.623308500000004,\n",
       " 24.643147000000003,\n",
       " 24.611213000000003,\n",
       " 24.528349000000002,\n",
       " 24.395636000000003,\n",
       " 24.214385500000002,\n",
       " 23.9861305,\n",
       " 23.7126145,\n",
       " 23.395780000000002,\n",
       " 23.037756,\n",
       " 22.6408455,\n",
       " 22.2075125,\n",
       " 21.740367,\n",
       " 21.24215,\n",
       " 20.7157195,\n",
       " 20.1640335,\n",
       " 19.590135,\n",
       " 18.997136,\n",
       " 18.3882005,\n",
       " 17.7665295,\n",
       " 17.135344,\n",
       " 16.497869,\n",
       " 15.8573175,\n",
       " 15.216875,\n",
       " 14.579684,\n",
       " 13.948830000000001,\n",
       " 13.327326500000002,\n",
       " 12.718101,\n",
       " 12.123982000000002,\n",
       " 11.547686000000002,\n",
       " 10.991806500000003,\n",
       " 10.458802000000002,\n",
       " 9.950986500000003,\n",
       " 9.470520000000002,\n",
       " 9.019399000000002,\n",
       " 8.599449500000002,\n",
       " 8.212320000000002,\n",
       " 7.859476500000002,\n",
       " 7.542197500000002,\n",
       " 7.2615700000000025,\n",
       " 7.018486000000003,\n",
       " 6.813641500000003,\n",
       " 6.647536000000003,\n",
       " 6.520472000000003,\n",
       " 6.432556500000003,\n",
       " 6.383702000000003,\n",
       " 6.3736305000000035,\n",
       " 6.4018780000000035,\n",
       " 6.467799000000004,\n",
       " 6.570571000000004,\n",
       " 6.709201000000004,\n",
       " 6.882533500000004,\n",
       " 7.089257500000004,\n",
       " 7.327916000000004,\n",
       " 7.596914500000004,\n",
       " 7.894530500000004,\n",
       " 8.218924000000003]"
      ]
     },
     "execution_count": 11,
     "metadata": {},
     "output_type": "execute_result"
    }
   ],
   "source": [
    "integrateLis(lis)"
   ]
  },
  {
   "cell_type": "code",
   "execution_count": 12,
   "id": "a980b2ec-6bda-4f32-93d7-f8c0dba5608c",
   "metadata": {
    "tags": []
   },
   "outputs": [],
   "source": [
    "x,y=lis"
   ]
  },
  {
   "cell_type": "code",
   "execution_count": null,
   "id": "5bf3f79e-91c0-45cb-979c-b1000a23340c",
   "metadata": {
    "tags": []
   },
   "outputs": [],
   "source": []
  },
  {
   "cell_type": "code",
   "execution_count": 13,
   "id": "2b5d61c0-0ef3-4c7c-8143-1bd08b3ca3c5",
   "metadata": {
    "tags": []
   },
   "outputs": [
    {
     "data": {
      "text/plain": [
       "array([ 0.      ,  0.069478,  0.137694,  0.204332,  0.269083,  0.331656,\n",
       "        0.391771,  0.449167,  0.503598,  0.554835,  0.60267 ,  0.646912,\n",
       "        0.687392,  0.723961,  0.756491,  0.784876,  0.809032,  0.828897,\n",
       "        0.844428,  0.855608,  0.862439,  0.864945,  0.863172,  0.857184,\n",
       "        0.847067,  0.832926,  0.814882,  0.793077,  0.767666,  0.738824,\n",
       "        0.706736,  0.671603,  0.633638,  0.593065,  0.550118,  0.505039,\n",
       "        0.458077,  0.409488,  0.359533,  0.308474,  0.256576,  0.204107,\n",
       "        0.15133 ,  0.098509,  0.045905, -0.006228, -0.05764 , -0.108088,\n",
       "       -0.157338, -0.205163, -0.251347, -0.295685, -0.337984, -0.378064,\n",
       "       -0.415757, -0.450909, -0.483382, -0.513052, -0.539809, -0.563563,\n",
       "       -0.584234, -0.601764, -0.616107, -0.627235, -0.635136, -0.639814,\n",
       "       -0.641289, -0.639596, -0.634786, -0.626922, -0.616085, -0.602366,\n",
       "       -0.585872, -0.56672 , -0.545039, -0.52097 , -0.494661, -0.466272,\n",
       "       -0.43597 , -0.403929, -0.37033 , -0.335357, -0.299201, -0.262054,\n",
       "       -0.224114, -0.185575, -0.146636, -0.107492, -0.068339, -0.02937 ,\n",
       "        0.009227,  0.047268,  0.084574,  0.12097 ,  0.15629 ,  0.190375,\n",
       "        0.223073,  0.254244,  0.283753,  0.311479,  0.337308])"
      ]
     },
     "execution_count": 13,
     "metadata": {},
     "output_type": "execute_result"
    }
   ],
   "source": [
    "y"
   ]
  },
  {
   "cell_type": "code",
   "execution_count": 14,
   "id": "b5140d82-1dcb-4860-a9be-181f2103fd62",
   "metadata": {
    "tags": []
   },
   "outputs": [
    {
     "data": {
      "text/plain": [
       "[<matplotlib.lines.Line2D at 0x7fd464c91310>]"
      ]
     },
     "execution_count": 14,
     "metadata": {},
     "output_type": "execute_result"
    },
    {
     "data": {
      "image/png": "[encoded data removed]",
      "text/plain": [
       "<Figure size 640x480 with 1 Axes>"
      ]
     },
     "metadata": {},
     "output_type": "display_data"
    }
   ],
   "source": [
    "fig1, ax1 = plt.subplots()\n",
    "\n",
    "ax1.plot(lis[0], lis[1])"
   ]
  },
  {
   "cell_type": "code",
   "execution_count": 15,
   "id": "d89881dc-6c34-4c5a-8895-aea0079b85b0",
   "metadata": {},
   "outputs": [],
   "source": [
    "import seaborn as sb"
   ]
  },
  {
   "cell_type": "code",
   "execution_count": null,
   "id": "efa5997b-a6e4-406b-96a7-127b46311ae5",
   "metadata": {},
   "outputs": [],
   "source": []
  }
 ],
 "metadata": {
  "kernelspec": {
   "display_name": "Python 3 (ipykernel)",
   "language": "python",
   "name": "python3"
  },
  "language_info": {
   "codemirror_mode": {
    "name": "ipython",
    "version": 3
   },
   "file_extension": ".py",
   "mimetype": "text/x-python",
   "name": "python",
   "nbconvert_exporter": "python",
   "pygments_lexer": "ipython3",
   "version": "3.11.4"
  }
 },
 "nbformat": 4,
 "nbformat_minor": 5
}
