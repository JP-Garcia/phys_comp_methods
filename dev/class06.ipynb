{
 "cells": [
  {
   "cell_type": "markdown",
   "id": "07d6bffc-b2d1-4138-b43e-66d68a7e41f2",
   "metadata": {
    "tags": []
   },
   "source": [
    "# Day 6: Le Function"
   ]
  },
  {
   "cell_type": "code",
   "execution_count": 5,
   "id": "30a45c6a-6a47-4245-a41e-9dbb7e8289da",
   "metadata": {
    "tags": []
   },
   "outputs": [],
   "source": [
    "def myFun():\n",
    "    print(\"this is a function call\")"
   ]
  },
  {
   "cell_type": "code",
   "execution_count": 7,
   "id": "6fa8f107-69d7-4a8e-8b6c-d7304994a1bc",
   "metadata": {
    "tags": []
   },
   "outputs": [
    {
     "name": "stdout",
     "output_type": "stream",
     "text": [
      "this is a function call\n"
     ]
    }
   ],
   "source": [
    "myFun()"
   ]
  },
  {
   "cell_type": "code",
   "execution_count": 16,
   "id": "f962882d-026e-4e4f-8d37-e0905edcc21a",
   "metadata": {
    "tags": []
   },
   "outputs": [],
   "source": [
    "# Calculate Factorial\n",
    "\n",
    "def fact(n):\n",
    "    if n < 0:\n",
    "        print(\"Undefined\")\n",
    "        return 1\n",
    "    if n == 0:\n",
    "        return 1\n",
    "    else:\n",
    "        i = n - 1\n",
    "        while i > 0:\n",
    "            n = i*n\n",
    "            i -= 1\n",
    "        return n"
   ]
  },
  {
   "cell_type": "code",
   "execution_count": 68,
   "id": "5f37c499-e479-4816-8ff8-7f269015fe14",
   "metadata": {
    "tags": []
   },
   "outputs": [
    {
     "data": {
      "text/plain": [
       "24"
      ]
     },
     "execution_count": 68,
     "metadata": {},
     "output_type": "execute_result"
    }
   ],
   "source": [
    "fact(4)"
   ]
  },
  {
   "cell_type": "code",
   "execution_count": 72,
   "id": "666f6783-45cb-4a09-be37-3ee43e298a3a",
   "metadata": {
    "tags": []
   },
   "outputs": [],
   "source": [
    "# Calculate 3d distance\n",
    "\n",
    "def dist(x,y,z):\n",
    "    d = (x**2+y**2+z**2)**(1/2)\n",
    "    return d"
   ]
  },
  {
   "cell_type": "code",
   "execution_count": 97,
   "id": "3ca9450c-5631-4c5f-b00d-4f72bf9db1b6",
   "metadata": {
    "tags": []
   },
   "outputs": [
    {
     "data": {
      "text/plain": [
       "1.7320508075688772"
      ]
     },
     "execution_count": 97,
     "metadata": {},
     "output_type": "execute_result"
    }
   ],
   "source": [
    "dist(1,1,1)"
   ]
  },
  {
   "cell_type": "code",
   "execution_count": 102,
   "id": "33453f19-5eba-43df-b445-4e8acf0e597a",
   "metadata": {
    "tags": []
   },
   "outputs": [],
   "source": [
    "# Spherical to Cartesian\n",
    "\n",
    "import math\n",
    "def sphereToCart(r,theta,phi):\n",
    "    z = r*math.cos(theta)\n",
    "    x = r*math.sin(theta)*math.sin(phi)\n",
    "    y = r*math.sin(theta)*math.sin(phi)\n",
    "    print(\"x =\", x, \"y =\", y, \"z =\", z)\n",
    "    return(x,y,z)\n",
    "    "
   ]
  },
  {
   "cell_type": "code",
   "execution_count": 101,
   "id": "a1e545d6-2a84-43c2-b7da-5fcbac6e0668",
   "metadata": {
    "tags": []
   },
   "outputs": [
    {
     "name": "stdout",
     "output_type": "stream",
     "text": [
      "x = 0.8659999999999999 y = 0.8659999999999999 z = 1.2247089450151003\n",
      "(0.8659999999999999, 0.8659999999999999, 1.2247089450151003)\n"
     ]
    }
   ],
   "source": [
    "print(sphereToCart(1.732, math.pi/4, math.pi/4))\n"
   ]
  },
  {
   "cell_type": "code",
   "execution_count": 54,
   "id": "571c25c7-6a14-4504-98d7-5e117de1484e",
   "metadata": {},
   "outputs": [],
   "source": [
    "def bi(n, k):\n",
    "    result = fact(n) / (fact(k) * fact(n-k))\n",
    "    return int(result)"
   ]
  },
  {
   "cell_type": "code",
   "execution_count": 29,
   "id": "ce543101-e640-434d-8e4f-685f27a2073f",
   "metadata": {
    "tags": []
   },
   "outputs": [
    {
     "name": "stdin",
     "output_type": "stream",
     "text": [
      "Enter N:  3\n",
      "Enter K:  1\n"
     ]
    },
    {
     "data": {
      "text/plain": [
       "3.0"
      ]
     },
     "execution_count": 29,
     "metadata": {},
     "output_type": "execute_result"
    }
   ],
   "source": [
    "n = float(input(\"Enter N: \"))\n",
    "k = float(input(\"Enter K: \"))\n",
    "\n",
    "binomial(n, k)"
   ]
  },
  {
   "cell_type": "code",
   "execution_count": 118,
   "id": "4436f027-b664-48b0-a003-7c9293c95624",
   "metadata": {
    "tags": []
   },
   "outputs": [],
   "source": [
    "def pastri(r):\n",
    "    print(\"Welcome to Pascal's Triangle\")\n",
    "    for n in range(r):\n",
    "        print()\n",
    "        print(end = \" \"*(r-n))\n",
    "        \n",
    "        for k in range(r):\n",
    "            print(bi(n, k), end=\" \")\n",
    "            if k >= n:\n",
    "                break"
   ]
  },
  {
   "cell_type": "code",
   "execution_count": 119,
   "id": "f60d8626-de01-41f0-b599-ab35d1bd1fe1",
   "metadata": {
    "tags": []
   },
   "outputs": [
    {
     "name": "stdout",
     "output_type": "stream",
     "text": [
      "Welcome to Pascal's Triangle\n",
      "\n",
      "          1 \n",
      "         1 1 \n",
      "        1 2 1 \n",
      "       1 3 3 1 \n",
      "      1 4 6 4 1 \n",
      "     1 5 10 10 5 1 \n",
      "    1 6 15 20 15 6 1 \n",
      "   1 7 21 35 35 21 7 1 \n",
      "  1 8 28 56 70 56 28 8 1 \n",
      " 1 9 36 84 126 126 84 36 9 1 "
     ]
    }
   ],
   "source": [
    "pastri(10)"
   ]
  },
  {
   "cell_type": "code",
   "execution_count": 117,
   "id": "66960a0d-3f58-493d-9c10-1a270076ece4",
   "metadata": {
    "tags": []
   },
   "outputs": [
    {
     "name": "stdout",
     "output_type": "stream",
     "text": [
      "Manual Test\n",
      "1\n",
      "1 1\n",
      "1 2 1\n",
      "1 3 3 1\n"
     ]
    }
   ],
   "source": [
    "print(\"Manual Test\")\n",
    "        \n",
    "print(bi(0,0))\n",
    "print(bi(1,0), end = \" \")\n",
    "print(bi(1,1))\n",
    "print(bi(2,0), end = \" \")\n",
    "print(bi(2,1), end = \" \")\n",
    "print(bi(2,2))\n",
    "print(bi(3,0), end = \" \")\n",
    "print(bi(3,1), end = \" \")\n",
    "print(bi(3,2), end = \" \")\n",
    "print(bi(3,3))"
   ]
  },
  {
   "cell_type": "code",
   "execution_count": null,
   "id": "1b768570-5a8a-4fe6-8c9f-cc7c9884e51a",
   "metadata": {},
   "outputs": [],
   "source": []
  }
 ],
 "metadata": {
  "kernelspec": {
   "display_name": "Python 3 (ipykernel)",
   "language": "python",
   "name": "python3"
  },
  "language_info": {
   "codemirror_mode": {
    "name": "ipython",
    "version": 3
   },
   "file_extension": ".py",
   "mimetype": "text/x-python",
   "name": "python",
   "nbconvert_exporter": "python",
   "pygments_lexer": "ipython3",
   "version": "3.11.4"
  }
 },
 "nbformat": 4,
 "nbformat_minor": 5
}
