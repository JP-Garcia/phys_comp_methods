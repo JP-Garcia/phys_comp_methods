{
 "cells": [
  {
   "cell_type": "code",
   "execution_count": 6,
   "id": "3477e94d-db46-4fb8-8971-48ba1dce3b37",
   "metadata": {
    "tags": []
   },
   "outputs": [],
   "source": [
    "import numpy as np\n",
    "import matplotlib.pyplot as plt"
   ]
  },
  {
   "cell_type": "markdown",
   "id": "ad208410-1044-4eaa-8fe3-7100e094623f",
   "metadata": {},
   "source": [
    "## Euler's method\n",
    "### dx/dt = f(x,t)"
   ]
  },
  {
   "cell_type": "code",
   "execution_count": 7,
   "id": "ec64616e-072f-418e-a705-8121f2c760ec",
   "metadata": {
    "tags": []
   },
   "outputs": [],
   "source": [
    "# ODE euler\n",
    "def eulerFirst(f, a, b, x=0.0, N=1000):\n",
    "    dt = (b-a)/N\n",
    "\n",
    "    tpoints = np.arange(a,b,dt)\n",
    "    xpoints = []\n",
    "\n",
    "    for t in tpoints:\n",
    "        xpoints.append(x)\n",
    "        x = x + dt * f(x,t) # next x = x + dt * derivative\n",
    "    \n",
    "    return tpoints, xpoints"
   ]
  },
  {
   "cell_type": "code",
   "execution_count": 8,
   "id": "85b91032-6858-4519-bc10-533e5007b527",
   "metadata": {
    "tags": []
   },
   "outputs": [],
   "source": [
    "# Second Derivative ODE\n",
    "def eulerSecond(f, a, b, x=0.0, v=0.0, N=1000):\n",
    "    dt = (b-a)/N\n",
    "\n",
    "    tpoints = np.arange(a,b,dt)\n",
    "    xpoints = []\n",
    "    vpoints = []\n",
    "\n",
    "    for t in tpoints:\n",
    "        xpoints.append(x)\n",
    "        vpoints.append(v)\n",
    "        v = v + dt * f(x,v,t) # next x = x + dt * derivative\n",
    "        x = x +dt * v\n",
    "        # if (x <= -0.1):\n",
    "        #     break\n",
    "    \n",
    "    # return tpoints[0:len(xpoints)], xpoints\n",
    "    return tpoints, xpoints\n",
    "\n",
    "# Euler's methood is a good approximation, but may have some errors"
   ]
  },
  {
   "cell_type": "markdown",
   "id": "44db58f9-6a4c-4898-92b9-ecd44e011f3b",
   "metadata": {},
   "source": [
    "### dx/dt = x(t)\n",
    "### Finding midpoints and generating curves\n",
    "#### Remember: dt = tiny space\n",
    "\n",
    "k1 = dt * f(x,t)\n",
    "k2 = dt * "
   ]
  },
  {
   "cell_type": "code",
   "execution_count": 9,
   "id": "64b51cb6-211b-4286-82d8-2c9180f00435",
   "metadata": {
    "tags": []
   },
   "outputs": [],
   "source": [
    "# Rung-Kutta First Order ODE\n",
    "\n",
    "def rungaFirst(f, a, b, x=0.0, N=1000):\n",
    "    dt = (b-a)/N\n",
    "\n",
    "    tpoints = np.arange(a,b,dt)\n",
    "    xpoints = []\n",
    "\n",
    "    for t in tpoints:\n",
    "        xpoints.append(x)\n",
    "        k1 = dt*f(x,t)\n",
    "        k2 = dt*f(x+0.5*k1, t+0.5*dt)\n",
    "        x = x + k2\n",
    "    \n",
    "    return tpoints, xpoints"
   ]
  },
  {
   "cell_type": "code",
   "execution_count": 20,
   "id": "8bb051a4-4e82-4d56-994c-5c2c8cc4a254",
   "metadata": {
    "tags": []
   },
   "outputs": [],
   "source": [
    "# Rung-Kutta Fourth Order ODE\n",
    "\n",
    "def rungaFourth(f, a, b, x=0.0, N=1000):\n",
    "    dt = (b-a)/N\n",
    "\n",
    "    tpoints = np.arange(a,b,dt)\n",
    "    xpoints = []\n",
    "\n",
    "    for t in tpoints:\n",
    "        xpoints.append(x)\n",
    "        k1 = dt*f(x,t)\n",
    "        k2 = dt*f(x+0.5*k1, t+0.5*dt)\n",
    "        k3 = dt*f(x+0.5*k2, t+0.5*dt)\n",
    "        k4 = dt*f(x+0.5*k3, t+0.5*dt)\n",
    "        x = x + (k1+2*k2+2*k3+k4)/6\n",
    "\n",
    "    \n",
    "    return tpoints, xpoints"
   ]
  },
  {
   "cell_type": "code",
   "execution_count": 21,
   "id": "bba3b339-0e23-46c5-993c-7303a8a0963f",
   "metadata": {
    "tags": []
   },
   "outputs": [],
   "source": [
    "def graph(x, y, xname='x', yname='y'):\n",
    "    fig0, ax0 = plt.subplots()\n",
    "\n",
    "    ax0.plot(x, y)\n",
    "    ax0.set_xlabel(xname)\n",
    "    ax0.set_ylabel(yname)\n",
    "def graph2(x, y, rx, ry, xname='x', yname='y'):    \n",
    "    fig0, ax0 = plt.subplots()\n",
    "\n",
    "    ax0.plot(x, y, \".-\")\n",
    "    ax0.plot(rx, ry, \".-\")\n",
    "    ax0.set_xlabel(xname)\n",
    "    ax0.set_ylabel(yname)\n",
    "def graph3(x, y, rx, ry, r4x, r4y, xname='x', yname='y'):    \n",
    "    fig0, ax0 = plt.subplots()\n",
    "\n",
    "    ax0.plot(x, y, \".-\")\n",
    "    ax0.plot(rx, ry, \".-\")\n",
    "    ax0.plot(r4x, r4y, \".-\")\n",
    "    ax0.set_xlabel(xname)\n",
    "    ax0.set_ylabel(yname)"
   ]
  },
  {
   "cell_type": "code",
   "execution_count": 22,
   "id": "2de60fe8-43ea-4993-91b2-bf7c31ec5f80",
   "metadata": {
    "tags": []
   },
   "outputs": [],
   "source": [
    "def f(x,t): return(-x**3 + np.sin(t))\n",
    "\n",
    "def f2(x, v, t): return(-9.8)"
   ]
  },
  {
   "cell_type": "code",
   "execution_count": 25,
   "id": "65dbea93-edbf-42fa-a85b-4a093246dcbe",
   "metadata": {
    "tags": []
   },
   "outputs": [],
   "source": [
    "t,x = eulerFirst(f, 0, 3, N=10)\n",
    "rt, rx = rungaFirst(f, 0, 3, N=10)\n",
    "r4t, r4x = rungaFourth(f, 0, 3, N=10)"
   ]
  },
  {
   "cell_type": "code",
   "execution_count": 26,
   "id": "fed06cae-6a47-4d6a-83fd-e51b7ec1f6bb",
   "metadata": {
    "tags": []
   },
   "outputs": [
    {
     "data": {
      "image/png": "[encoded data removed]",
      "text/plain": [
       "<Figure size 640x480 with 1 Axes>"
      ]
     },
     "metadata": {},
     "output_type": "display_data"
    }
   ],
   "source": [
    "# graph(t, x, \"time\", \"position\")\n",
    "graph3(t, x, rt, rx, r4t, r4x)"
   ]
  },
  {
   "cell_type": "code",
   "execution_count": null,
   "id": "14e3e3ee-7cb9-42f7-8829-0a2f064d8618",
   "metadata": {},
   "outputs": [],
   "source": []
  },
  {
   "cell_type": "code",
   "execution_count": null,
   "id": "e60e9e26-06af-4af9-afc1-41e8b5f35d49",
   "metadata": {},
   "outputs": [],
   "source": []
  },
  {
   "cell_type": "code",
   "execution_count": null,
   "id": "7b8fc437-e803-4f3e-9445-dd746185a0c8",
   "metadata": {},
   "outputs": [],
   "source": []
  },
  {
   "cell_type": "code",
   "execution_count": null,
   "id": "e58d80ac-1882-4222-a5c3-e8f4c3dcf4e1",
   "metadata": {},
   "outputs": [],
   "source": []
  },
  {
   "cell_type": "code",
   "execution_count": null,
   "id": "086fc870-729a-45e5-a36e-672c160995e0",
   "metadata": {},
   "outputs": [],
   "source": []
  },
  {
   "cell_type": "code",
   "execution_count": null,
   "id": "ab801ff2-d703-47ee-8134-aea713580ee6",
   "metadata": {},
   "outputs": [],
   "source": []
  }
 ],
 "metadata": {
  "kernelspec": {
   "display_name": "Python 3 (ipykernel)",
   "language": "python",
   "name": "python3"
  },
  "language_info": {
   "codemirror_mode": {
    "name": "ipython",
    "version": 3
   },
   "file_extension": ".py",
   "mimetype": "text/x-python",
   "name": "python",
   "nbconvert_exporter": "python",
   "pygments_lexer": "ipython3",
   "version": "3.11.4"
  }
 },
 "nbformat": 4,
 "nbformat_minor": 5
}
