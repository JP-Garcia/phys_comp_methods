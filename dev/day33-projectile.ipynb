{
 "cells": [
  {
   "cell_type": "markdown",
   "id": "3c194be7-48e7-4195-89ed-02b58d1a1c99",
   "metadata": {},
   "source": [
    "# day 33"
   ]
  },
  {
   "cell_type": "markdown",
   "id": "708b1185-cebe-41a6-81ac-0f8e1818ff9f",
   "metadata": {},
   "source": [
    "We don't care about time, we want to know where the projectile lands.\n",
    "\n",
    "Modifications:\n",
    "* Time is not an important factr\n",
    "* secant method needed unpacked variables\n"
   ]
  },
  {
   "cell_type": "code",
   "execution_count": 1,
   "id": "6bb97afa-5011-4e79-a3f3-ce93704e95b3",
   "metadata": {
    "tags": []
   },
   "outputs": [],
   "source": [
    "g = 9.81 #m/s^2\n",
    "\n",
    "def trajectory(r,x):\n",
    "    y = r[0]\n",
    "    v = r[1]\n",
    "    th = r[2]\n",
    "    \n",
    "    fy = np.tan(th)           # dy/dx\n",
    "    fv = (-g / v)*np.tan(th)  # dv/dx\n",
    "    fth = (-g/v**2)              # d*theta/dx\n",
    "    \n",
    "    return np.array([fy, fv, fth], float)"
   ]
  },
  {
   "cell_type": "code",
   "execution_count": null,
   "id": "bcc00410-6e3f-4338-b20c-a6de7883e8b1",
   "metadata": {},
   "outputs": [],
   "source": []
  },
  {
   "cell_type": "code",
   "execution_count": 102,
   "id": "45128fc7-4cc0-444a-bc43-f6e694b27cab",
   "metadata": {
    "tags": []
   },
   "outputs": [],
   "source": [
    "# def crk4(f, x0=0, v0=0, t0=0.0, tf=10.0, dt=2**-5):\n",
    "#     r = np.array([x0,v0], float) #init conditions\n",
    "\n",
    "#     tpoints = np.arange(t0,tf,dt)\n",
    "#     xpoints = []\n",
    "#     vpoints = []\n",
    "\n",
    "#     for t in tpoints:\n",
    "#         xpoints.append(r[0])\n",
    "#         vpoints.append(r[1])\n",
    "#         k1 = dt*f(r,t)\n",
    "#         k2 = dt*f(r+0.5*k1, t+0.5*dt)\n",
    "#         k3 = dt*f(r+0.5*k2, t+0.5*dt)\n",
    "#         k4 = dt*f(r+0.5*k3, t+0.5*dt)\n",
    "#         r = r + (k1+2*k2+2*k3+k4)/6\n",
    "    \n",
    "#     return tpoints, xpoints, vpoints\n",
    "\n",
    "# def bisection(f, low, high, tolerance=2**-32):\n",
    "#     mid = (low + high) / 2\n",
    "#     while high-low > tolerance:\n",
    "#         if f(low)*f(mid) < 0:\n",
    "#             high = mid\n",
    "#             mid = (low + high) / 2\n",
    "#         elif f(high)*f(mid) < 0:\n",
    "#             low = mid\n",
    "#             mid = (low + high) / 2\n",
    "#         elif f(low)*f(mid) > 0 and f(high)*f(mid) > 0:\n",
    "#             print(\"No unique root in bracket\")\n",
    "#             break\n",
    "#     return mid\n",
    "\n",
    "# we only want initial velocity: cleanup crk4 function\n",
    "def crk4end(f, x0, xf, y0, v0, th0, dx=2**-5):\n",
    "    r = np.array([y0, v0, th0], float) #init conditions\n",
    "\n",
    "    xpoints = np.arange(x0,xf,dx)\n",
    "    ypoints = []\n",
    "    vpoints = []\n",
    "    thpoints = []\n",
    "\n",
    "    for x in xpoints:\n",
    "        ypoints.append(r[0])\n",
    "        vpoints.append(r[1])\n",
    "        thpoints.append(r[2])\n",
    "        k1 = dx*f(r,x)\n",
    "        k2 = dx*f(r+0.5*k1, x+0.5*dx)\n",
    "        k3 = dx*f(r+0.5*k2, x+0.5*dx)\n",
    "        k4 = dx*f(r+0.5*k3, x+0.5*dx)\n",
    "        r = r + (k1+2*k2+2*k3+k4)/6\n",
    "    \n",
    "    return r[0] # last position\n",
    "\n",
    "def helper(guess):\n",
    "    answer = []\n",
    "    for i in guess:\n",
    "        answer.append(crk4end(trajectory, x0=0, xf=i, y0=0, v0=7, th0=(np.pi/4)))\n",
    "    return answer\n",
    "\n",
    "def shooting(guess):\n",
    "    def shot(guess):\n",
    "        y = crk4end(trajectory, x0=0, xf=5, y0=0, v0=7, th0=(guess))\n",
    "        return y\n",
    "    res = bisection(shot, guess-1, guess+6)\n",
    "    return res\n",
    "    \n",
    "def secant(f, guess, delta, tolerance=2**-32):\n",
    "    x0 = guess\n",
    "    x1 = x0+delta\n",
    "    n = 0\n",
    "    steps = 0\n",
    "    while abs(f(x1)) > tolerance:\n",
    "        x1 = x1 - (x1-x0)/(f(x1)-f(x0))*f(x1)\n",
    "        n += 1\n",
    "        steps += 1\n",
    "        print(x1)\n",
    "    return x1, n\n",
    "\n",
    "def bisection(f, low, high, tolerance=2**-32):\n",
    "    mid = (low + high) / 2\n",
    "    while high-low > tolerance:\n",
    "        if f(low)*f(mid) < 0:\n",
    "            high = mid\n",
    "            mid = (low + high) / 2\n",
    "        elif f(high)*f(mid) < 0:\n",
    "            low = mid\n",
    "            mid = (low + high) / 2\n",
    "        elif f(low)*f(mid) > 0 and f(high)*f(mid) > 0:\n",
    "            print(\"No unique root in bracket\")\n",
    "            break\n",
    "        print(mid)\n",
    "    return mid"
   ]
  },
  {
   "cell_type": "code",
   "execution_count": 103,
   "id": "161a08d9-8588-492b-8779-5426ab58e0a1",
   "metadata": {
    "tags": []
   },
   "outputs": [
    {
     "name": "stdout",
     "output_type": "stream",
     "text": [
      "No unique root in bracket\n"
     ]
    },
    {
     "data": {
      "text/plain": [
       "3.2853981633974483"
      ]
     },
     "execution_count": 103,
     "metadata": {},
     "output_type": "execute_result"
    }
   ],
   "source": [
    "shooting(np.pi/4)"
   ]
  },
  {
   "cell_type": "code",
   "execution_count": 69,
   "id": "59b9ea3d-82c5-4e7d-9275-9032c2a445de",
   "metadata": {
    "tags": []
   },
   "outputs": [
    {
     "data": {
      "text/plain": [
       "0.7853981633974483"
      ]
     },
     "execution_count": 69,
     "metadata": {},
     "output_type": "execute_result"
    }
   ],
   "source": [
    "np.pi/4 #answer!"
   ]
  },
  {
   "cell_type": "code",
   "execution_count": 65,
   "id": "3090e307-4511-4362-8e79-a222195ae303",
   "metadata": {
    "tags": []
   },
   "outputs": [],
   "source": [
    "def graph(x,y):\n",
    "    fig, ax = plt.subplots()\n",
    "    ax.plot(x, y)"
   ]
  },
  {
   "cell_type": "code",
   "execution_count": 66,
   "id": "5794bbce-fb14-4ad8-bb2b-09f260af164d",
   "metadata": {
    "tags": []
   },
   "outputs": [],
   "source": [
    "x = np.linspace(0,5)"
   ]
  },
  {
   "cell_type": "code",
   "execution_count": 67,
   "id": "831c7523-bbef-45ec-a1e8-240fc97453be",
   "metadata": {
    "tags": []
   },
   "outputs": [
    {
     "data": {
      "image/png": "[encoded data removed]",
      "text/plain": [
       "<Figure size 640x480 with 1 Axes>"
      ]
     },
     "metadata": {},
     "output_type": "display_data"
    }
   ],
   "source": [
    "graph(x, helper(x))"
   ]
  },
  {
   "cell_type": "code",
   "execution_count": null,
   "id": "9ed09b59-1fc6-4184-ad42-f25c7181f9ee",
   "metadata": {},
   "outputs": [],
   "source": []
  }
 ],
 "metadata": {
  "kernelspec": {
   "display_name": "Python 3 (ipykernel)",
   "language": "python",
   "name": "python3"
  },
  "language_info": {
   "codemirror_mode": {
    "name": "ipython",
    "version": 3
   },
   "file_extension": ".py",
   "mimetype": "text/x-python",
   "name": "python",
   "nbconvert_exporter": "python",
   "pygments_lexer": "ipython3",
   "version": "3.11.4"
  }
 },
 "nbformat": 4,
 "nbformat_minor": 5
}
