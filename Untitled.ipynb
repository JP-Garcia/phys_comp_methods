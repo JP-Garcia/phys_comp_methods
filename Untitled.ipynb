{
 "cells": [
  {
   "cell_type": "markdown",
   "id": "5a34c4aa-9fa9-4e98-86ac-2f8043e5cf5c",
   "metadata": {
    "tags": []
   },
   "source": [
    "# Markdown text: Render what I am talking about\n",
    " Used to quickly make human-readable documents\n"
   ]
  },
  {
   "cell_type": "code",
   "execution_count": 3,
   "id": "423c3ac8-2457-4701-9927-d55ffc6a3a7f",
   "metadata": {
    "tags": []
   },
   "outputs": [
    {
     "name": "stdout",
     "output_type": "stream",
     "text": [
      "Code Cell\n"
     ]
    }
   ],
   "source": [
    "print(\"Code Cell\")"
   ]
  },
  {
   "cell_type": "markdown",
   "id": "9b442de3-8392-4860-8394-4e3ed157d8f1",
   "metadata": {},
   "source": [
    "Control Statements: Used to execute select code based on a condition\n"
   ]
  },
  {
   "cell_type": "code",
   "execution_count": 44,
   "id": "ba65cc1c-c758-4700-9142-15c3c43e8bc5",
   "metadata": {
    "tags": []
   },
   "outputs": [
    {
     "name": "stdout",
     "output_type": "stream",
     "text": [
      "10\n",
      "Done\n"
     ]
    }
   ],
   "source": [
    "if (x < 10):\n",
    "    x = 10\n",
    "    print(x)\n",
    "elif (x >= 10):\n",
    "    x = 5\n",
    "    print(x)\n",
    "    \n",
    "print('Done')"
   ]
  },
  {
   "cell_type": "code",
   "execution_count": 53,
   "id": "bcbd9653-26ee-4ada-b7ca-bee58c618202",
   "metadata": {
    "tags": []
   },
   "outputs": [
    {
     "name": "stdin",
     "output_type": "stream",
     "text": [
      "Enter tower height in meters:  2\n",
      "Enter drop time in seconds:  .1\n"
     ]
    },
    {
     "name": "stdout",
     "output_type": "stream",
     "text": [
      "Position is 1.95095 meters above ground\n"
     ]
    }
   ],
   "source": [
    "#Enter height of tower & time, give position of object\n",
    "\n",
    "h = float(input(\"Enter tower height in meters: \"))\n",
    "t = float(input(\"Enter drop time in seconds: \"))\n",
    "g = 9.81\n",
    "\n",
    "x = h - .5 * g * t**2\n",
    "\n",
    "if x > 0:\n",
    "    print(\"Position is\", x, \"meters above ground\")\n",
    "elif x == 0:\n",
    "    print(\"Rock is on ground\")\n",
    "else: print(\"Rock would have fallen\", x, \"meters below ground\")"
   ]
  },
  {
   "cell_type": "code",
   "execution_count": 77,
   "id": "3a01edd6-45e2-434a-9517-08a837b1ebaf",
   "metadata": {
    "tags": []
   },
   "outputs": [
    {
     "name": "stdout",
     "output_type": "stream",
     "text": [
      "0.1111111111111111\n",
      "0.125\n",
      "0.14285714285714285\n",
      "0.16666666666666666\n",
      "0.2\n",
      "0.25\n",
      "0.3333333333333333\n",
      "0.5\n",
      "1.0\n",
      "done\n"
     ]
    }
   ],
   "source": [
    "x=10\n",
    "while x > -1:\n",
    "    x -= 1\n",
    "    if x <= 0:\n",
    "        break\n",
    "    print(1/x)\n",
    "print('done')"
   ]
  },
  {
   "cell_type": "code",
   "execution_count": 65,
   "id": "22c99351-b7ac-4f17-88dc-2e0a54518b00",
   "metadata": {
    "tags": []
   },
   "outputs": [
    {
     "name": "stdout",
     "output_type": "stream",
     "text": [
      "0\n",
      "1\n",
      "2\n",
      "3\n",
      "4\n",
      "5\n",
      "6\n",
      "7\n",
      "8\n",
      "9\n",
      "done\n"
     ]
    }
   ],
   "source": [
    "for i in range(10):\n",
    "    print(i)\n",
    "print('done')"
   ]
  },
  {
   "cell_type": "code",
   "execution_count": 66,
   "id": "160638c6-86f9-4ae1-907b-1c60fff80812",
   "metadata": {
    "tags": []
   },
   "outputs": [],
   "source": [
    "import numpy as np"
   ]
  },
  {
   "cell_type": "code",
   "execution_count": 76,
   "id": "60dc389f-0f20-4b60-9ae5-89540114bd16",
   "metadata": {
    "tags": []
   },
   "outputs": [
    {
     "name": "stdout",
     "output_type": "stream",
     "text": [
      "0.0\n",
      "0.1\n",
      "0.2\n",
      "0.30000000000000004\n",
      "0.4\n",
      "0.5\n",
      "0.6000000000000001\n",
      "0.7000000000000001\n",
      "0.8\n",
      "0.9\n",
      "1.0\n",
      "1.1\n",
      "1.2000000000000002\n",
      "1.3\n",
      "1.4000000000000001\n",
      "1.5\n",
      "1.6\n",
      "1.7000000000000002\n",
      "1.8\n",
      "1.9000000000000001\n",
      "2.0\n",
      "2.1\n",
      "2.2\n",
      "2.3000000000000003\n",
      "2.4000000000000004\n",
      "2.5\n",
      "2.6\n",
      "2.7\n",
      "2.8000000000000003\n",
      "2.9000000000000004\n",
      "3.0\n",
      "3.1\n",
      "3.2\n",
      "3.3000000000000003\n",
      "3.4000000000000004\n",
      "3.5\n",
      "3.6\n",
      "3.7\n",
      "3.8000000000000003\n",
      "3.9000000000000004\n",
      "4.0\n",
      "4.1000000000000005\n",
      "4.2\n",
      "4.3\n",
      "4.4\n",
      "4.5\n",
      "4.6000000000000005\n",
      "4.7\n",
      "4.800000000000001\n",
      "4.9\n",
      "5.0\n",
      "5.1000000000000005\n",
      "5.2\n",
      "5.300000000000001\n",
      "5.4\n",
      "5.5\n",
      "5.6000000000000005\n",
      "5.7\n",
      "5.800000000000001\n",
      "5.9\n",
      "6.0\n",
      "6.1000000000000005\n",
      "6.2\n",
      "6.300000000000001\n",
      "6.4\n",
      "6.5\n",
      "6.6000000000000005\n",
      "6.7\n",
      "6.800000000000001\n",
      "6.9\n",
      "7.0\n",
      "7.1000000000000005\n",
      "7.2\n",
      "7.300000000000001\n",
      "7.4\n",
      "7.5\n",
      "7.6000000000000005\n",
      "7.7\n",
      "7.800000000000001\n",
      "7.9\n",
      "8.0\n",
      "8.1\n",
      "8.200000000000001\n",
      "8.3\n",
      "8.4\n",
      "8.5\n",
      "8.6\n",
      "8.700000000000001\n",
      "8.8\n",
      "8.9\n",
      "9.0\n",
      "9.1\n",
      "9.200000000000001\n",
      "9.3\n",
      "9.4\n",
      "9.5\n",
      "9.600000000000001\n",
      "9.700000000000001\n",
      "9.8\n",
      "9.9\n",
      "10.0\n"
     ]
    }
   ],
   "source": [
    "for i in np.linspace(0, 10, 101):\n",
    "    print(i)"
   ]
  },
  {
   "cell_type": "code",
   "execution_count": 95,
   "id": "788f87ed-0b3e-47f4-9dfa-4cd0acddcbb8",
   "metadata": {
    "tags": []
   },
   "outputs": [
    {
     "name": "stdout",
     "output_type": "stream",
     "text": [
      "2\n",
      "3\n",
      "5\n",
      "8\n",
      "13\n",
      "21\n",
      "34\n",
      "55\n",
      "89\n",
      "144\n"
     ]
    }
   ],
   "source": [
    "x1 = 1\n",
    "x2 = 1\n",
    "\n",
    "for i in range(10):\n",
    "    xnext = x1 + x2\n",
    "    # print(xnext)\n",
    "    x1 = x2\n",
    "    # print(x1)\n",
    "    x2 = xnext\n",
    "    # print(x2)\n",
    "\n",
    "    print(xnext)"
   ]
  },
  {
   "cell_type": "code",
   "execution_count": 97,
   "id": "1607813e-d16a-443a-9db8-be27ad50ec24",
   "metadata": {
    "tags": []
   },
   "outputs": [
    {
     "name": "stdout",
     "output_type": "stream",
     "text": [
      "2\n",
      "4\n",
      "8\n",
      "16\n",
      "32\n",
      "64\n",
      "128\n",
      "256\n",
      "512\n",
      "1024\n"
     ]
    }
   ],
   "source": [
    "x_old = 1\n",
    "x_new = 1\n",
    "\n",
    "for i in range(10):\n",
    "    x_old = x_new\n",
    "    x_new = x_old + x_new\n",
    "\n",
    "\n",
    "    print(x_new)"
   ]
  },
  {
   "cell_type": "code",
   "execution_count": null,
   "id": "52ee767f-6fad-40b0-a16a-866f181719c3",
   "metadata": {},
   "outputs": [],
   "source": []
  }
 ],
 "metadata": {
  "kernelspec": {
   "display_name": "Python 3 (ipykernel)",
   "language": "python",
   "name": "python3"
  },
  "language_info": {
   "codemirror_mode": {
    "name": "ipython",
    "version": 3
   },
   "file_extension": ".py",
   "mimetype": "text/x-python",
   "name": "python",
   "nbconvert_exporter": "python",
   "pygments_lexer": "ipython3",
   "version": "3.11.4"
  }
 },
 "nbformat": 4,
 "nbformat_minor": 5
}
